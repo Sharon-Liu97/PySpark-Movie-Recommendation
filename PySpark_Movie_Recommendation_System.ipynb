{
 "cells": [
  {
   "cell_type": "markdown",
   "metadata": {
    "id": "DYp5ORGN8dmT"
   },
   "source": [
    "# **Spark HW2 Movie Recommendation**\n",
    "In this notebook, we will use an Alternating Least Squares (ALS) algorithm with Spark APIs to predict the ratings for the movies in [MovieLens small dataset](https://grouplens.org/datasets/movielens/latest/)"
   ]
  },
  {
   "cell_type": "markdown",
   "metadata": {
    "id": "3KVEX-bDgbyc"
   },
   "source": [
    "# Spark Setup"
   ]
  },
  {
   "cell_type": "code",
   "execution_count": 1,
   "metadata": {
    "colab": {
     "base_uri": "https://localhost:8080/"
    },
    "id": "kKlXRyEjglff",
    "outputId": "d9f09698-6797-4133-8b5d-1cb6d9ba6ec0"
   },
   "outputs": [
    {
     "name": "stdout",
     "output_type": "stream",
     "text": [
      "\r",
      "0% [Working]\r",
      "            \r",
      "Get:1 http://security.ubuntu.com/ubuntu bionic-security InRelease [88.7 kB]\n",
      "\r",
      "0% [Connecting to archive.ubuntu.com (91.189.88.152)] [1 InRelease 14.2 kB/88.7\r",
      "                                                                               \r",
      "Get:2 https://cloud.r-project.org/bin/linux/ubuntu bionic-cran40/ InRelease [3,626 B]\n",
      "Ign:3 https://developer.download.nvidia.com/compute/cuda/repos/ubuntu1804/x86_64  InRelease\n",
      "Hit:4 http://archive.ubuntu.com/ubuntu bionic InRelease\n",
      "Get:5 http://ppa.launchpad.net/c2d4u.team/c2d4u4.0+/ubuntu bionic InRelease [15.9 kB]\n",
      "Ign:6 https://developer.download.nvidia.com/compute/machine-learning/repos/ubuntu1804/x86_64  InRelease\n",
      "Get:7 https://developer.download.nvidia.com/compute/cuda/repos/ubuntu1804/x86_64  Release [696 B]\n",
      "Hit:8 https://developer.download.nvidia.com/compute/machine-learning/repos/ubuntu1804/x86_64  Release\n",
      "Get:9 http://archive.ubuntu.com/ubuntu bionic-updates InRelease [88.7 kB]\n",
      "Get:10 https://developer.download.nvidia.com/compute/cuda/repos/ubuntu1804/x86_64  Release.gpg [836 B]\n",
      "Hit:11 http://ppa.launchpad.net/cran/libgit2/ubuntu bionic InRelease\n",
      "Get:12 http://archive.ubuntu.com/ubuntu bionic-backports InRelease [74.6 kB]\n",
      "Hit:13 http://ppa.launchpad.net/deadsnakes/ppa/ubuntu bionic InRelease\n",
      "Get:14 http://security.ubuntu.com/ubuntu bionic-security/universe amd64 Packages [1,468 kB]\n",
      "Get:15 http://ppa.launchpad.net/graphics-drivers/ppa/ubuntu bionic InRelease [21.3 kB]\n",
      "Get:16 http://security.ubuntu.com/ubuntu bionic-security/multiverse amd64 Packages [21.1 kB]\n",
      "Get:17 http://security.ubuntu.com/ubuntu bionic-security/main amd64 Packages [2,564 kB]\n",
      "Get:18 http://security.ubuntu.com/ubuntu bionic-security/restricted amd64 Packages [783 kB]\n",
      "Get:20 http://ppa.launchpad.net/c2d4u.team/c2d4u4.0+/ubuntu bionic/main Sources [1,825 kB]\n",
      "Get:21 https://developer.download.nvidia.com/compute/cuda/repos/ubuntu1804/x86_64  Packages [917 kB]\n",
      "Get:22 http://archive.ubuntu.com/ubuntu bionic-updates/universe amd64 Packages [2,247 kB]\n",
      "Get:23 http://ppa.launchpad.net/c2d4u.team/c2d4u4.0+/ubuntu bionic/main amd64 Packages [935 kB]\n",
      "Get:24 http://archive.ubuntu.com/ubuntu bionic-updates/restricted amd64 Packages [816 kB]\n",
      "Get:25 http://archive.ubuntu.com/ubuntu bionic-updates/multiverse amd64 Packages [29.0 kB]\n",
      "Get:26 http://archive.ubuntu.com/ubuntu bionic-updates/main amd64 Packages [3,004 kB]\n",
      "Get:27 http://ppa.launchpad.net/graphics-drivers/ppa/ubuntu bionic/main amd64 Packages [42.8 kB]\n",
      "Fetched 14.9 MB in 3s (4,312 kB/s)\n",
      "Reading package lists... Done\n"
     ]
    }
   ],
   "source": [
    "!apt-get update\n",
    "!apt-get install openjdk-8-jdk-headless -qq > /dev/null\n",
    "!wget -q https://dlcdn.apache.org/spark/spark-3.2.1/spark-3.2.1-bin-hadoop3.2.tgz\n",
    "!tar xf spark-3.2.1-bin-hadoop3.2.tgz"
   ]
  },
  {
   "cell_type": "code",
   "execution_count": 2,
   "metadata": {
    "colab": {
     "base_uri": "https://localhost:8080/"
    },
    "id": "e7-tuFW3iXnv",
    "outputId": "5325cfb6-60e5-4a74-e3a3-8f1c11b05522"
   },
   "outputs": [
    {
     "name": "stdout",
     "output_type": "stream",
     "text": [
      "Collecting py4j\n",
      "  Downloading py4j-0.10.9.3-py2.py3-none-any.whl (198 kB)\n",
      "\u001b[?25l\r",
      "\u001b[K     |█▋                              | 10 kB 19.2 MB/s eta 0:00:01\r",
      "\u001b[K     |███▎                            | 20 kB 23.9 MB/s eta 0:00:01\r",
      "\u001b[K     |█████                           | 30 kB 25.7 MB/s eta 0:00:01\r",
      "\u001b[K     |██████▋                         | 40 kB 28.2 MB/s eta 0:00:01\r",
      "\u001b[K     |████████▎                       | 51 kB 30.7 MB/s eta 0:00:01\r",
      "\u001b[K     |█████████▉                      | 61 kB 25.3 MB/s eta 0:00:01\r",
      "\u001b[K     |███████████▌                    | 71 kB 23.0 MB/s eta 0:00:01\r",
      "\u001b[K     |█████████████▏                  | 81 kB 24.6 MB/s eta 0:00:01\r",
      "\u001b[K     |██████████████▉                 | 92 kB 26.4 MB/s eta 0:00:01\r",
      "\u001b[K     |████████████████▌               | 102 kB 25.4 MB/s eta 0:00:01\r",
      "\u001b[K     |██████████████████▏             | 112 kB 25.4 MB/s eta 0:00:01\r",
      "\u001b[K     |███████████████████▊            | 122 kB 25.4 MB/s eta 0:00:01\r",
      "\u001b[K     |█████████████████████▍          | 133 kB 25.4 MB/s eta 0:00:01\r",
      "\u001b[K     |███████████████████████         | 143 kB 25.4 MB/s eta 0:00:01\r",
      "\u001b[K     |████████████████████████▊       | 153 kB 25.4 MB/s eta 0:00:01\r",
      "\u001b[K     |██████████████████████████▍     | 163 kB 25.4 MB/s eta 0:00:01\r",
      "\u001b[K     |████████████████████████████    | 174 kB 25.4 MB/s eta 0:00:01\r",
      "\u001b[K     |█████████████████████████████▋  | 184 kB 25.4 MB/s eta 0:00:01\r",
      "\u001b[K     |███████████████████████████████▎| 194 kB 25.4 MB/s eta 0:00:01\r",
      "\u001b[K     |████████████████████████████████| 198 kB 25.4 MB/s \n",
      "\u001b[?25hInstalling collected packages: py4j\n",
      "Successfully installed py4j-0.10.9.3\n",
      "/bin/bash: /usr/lib/jvm/java-8-openjdk-amd64: Is a directory\n",
      "\n"
     ]
    }
   ],
   "source": [
    "!pip install -q findspark\n",
    "!pip install py4j\n",
    "\n",
    "!export JAVA_HOME=$(/usr/lib/jvm/java-8-openjdk-amd64 -v 1.8)\n",
    "! echo $JAVA_HOME\n",
    "import os\n",
    "os.environ[\"JAVA_HOME\"] = \"/usr/lib/jvm/java-8-openjdk-amd64\"\n",
    "os.environ[\"SPARK_HOME\"] = \"/content/spark-3.2.1-bin-hadoop3.2\"\n",
    "import findspark\n",
    "findspark.init(\"spark-3.2.1-bin-hadoop3.2\")# SPARK_HOME\n",
    "\n",
    "\n",
    "from pyspark.sql import SparkSession\n",
    "spark = SparkSession.builder.master(\"local[*]\").getOrCreate()"
   ]
  },
  {
   "cell_type": "code",
   "execution_count": 3,
   "metadata": {
    "colab": {
     "base_uri": "https://localhost:8080/",
     "height": 35
    },
    "id": "_Yds3eaOi-Lu",
    "outputId": "a2280af9-c400-496a-a9c9-070c942b9ea9"
   },
   "outputs": [
    {
     "data": {
      "application/vnd.google.colaboratory.intrinsic+json": {
       "type": "string"
      },
      "text/plain": [
       "'3.2.1'"
      ]
     },
     "execution_count": 3,
     "metadata": {},
     "output_type": "execute_result"
    }
   ],
   "source": [
    "spark.version"
   ]
  },
  {
   "cell_type": "markdown",
   "metadata": {
    "id": "pT8mKeKN9MLk"
   },
   "source": [
    "# Data ETL and Data Exploration"
   ]
  },
  {
   "cell_type": "code",
   "execution_count": 4,
   "metadata": {
    "id": "Y6BVdJdV9UJW"
   },
   "outputs": [],
   "source": [
    "# load packages\n",
    "import numpy as np\n",
    "import pandas as pd\n",
    "import seaborn as sns\n",
    "import matplotlib.pyplot as plt\n",
    "import math\n",
    "\n",
    "import os\n",
    "os.environ[\"PYSPARK_PYTHON\"] = \"python3\""
   ]
  },
  {
   "cell_type": "code",
   "execution_count": 5,
   "metadata": {
    "colab": {
     "base_uri": "https://localhost:8080/"
    },
    "id": "VIFQ4IbNjfo9",
    "outputId": "20a3d03f-81b9-4a1c-f38e-372fb4b69647"
   },
   "outputs": [
    {
     "name": "stdout",
     "output_type": "stream",
     "text": [
      "Mounted at /content/drive\n"
     ]
    }
   ],
   "source": [
    "from google.colab import drive\n",
    "drive.mount('/content/drive')"
   ]
  },
  {
   "cell_type": "code",
   "execution_count": 6,
   "metadata": {
    "colab": {
     "base_uri": "https://localhost:8080/"
    },
    "id": "p0tVlbcupKvI",
    "outputId": "215334f9-e3d9-47f3-9f98-ddcaa07ed3be"
   },
   "outputs": [
    {
     "name": "stdout",
     "output_type": "stream",
     "text": [
      "Archive:  /content/drive/MyDrive/ml-latest-small.zip\n",
      "   creating: ml-latest-small/\n",
      "  inflating: ml-latest-small/links.csv  \n",
      "  inflating: ml-latest-small/tags.csv  \n",
      "  inflating: ml-latest-small/ratings.csv  \n",
      "  inflating: ml-latest-small/README.txt  \n",
      "  inflating: ml-latest-small/movies.csv  \n"
     ]
    }
   ],
   "source": [
    "!unzip \"/content/drive/MyDrive/ml-latest-small.zip\""
   ]
  },
  {
   "cell_type": "code",
   "execution_count": 7,
   "metadata": {
    "id": "MEKBgKNLrMGd"
   },
   "outputs": [],
   "source": [
    "movies_df = spark.read.load(\"/content/ml-latest-small/movies.csv\", format='csv', header = True)\n",
    "ratings_df = spark.read.load(\"/content/ml-latest-small/ratings.csv\", format='csv', header = True)\n",
    "links_df = spark.read.load(\"/content/ml-latest-small/links.csv\", format='csv', header = True)\n",
    "tags_df = spark.read.load(\"/content/ml-latest-small/tags.csv\", format='csv', header = True)"
   ]
  },
  {
   "cell_type": "code",
   "execution_count": 8,
   "metadata": {
    "colab": {
     "base_uri": "https://localhost:8080/"
    },
    "id": "SYcZ9fkeryyP",
    "outputId": "5b640614-6890-421c-c647-4ea1265d0837"
   },
   "outputs": [
    {
     "name": "stdout",
     "output_type": "stream",
     "text": [
      "+-------+--------------------+--------------------+\n",
      "|movieId|               title|              genres|\n",
      "+-------+--------------------+--------------------+\n",
      "|      1|    Toy Story (1995)|Adventure|Animati...|\n",
      "|      2|      Jumanji (1995)|Adventure|Childre...|\n",
      "|      3|Grumpier Old Men ...|      Comedy|Romance|\n",
      "|      4|Waiting to Exhale...|Comedy|Drama|Romance|\n",
      "|      5|Father of the Bri...|              Comedy|\n",
      "+-------+--------------------+--------------------+\n",
      "only showing top 5 rows\n",
      "\n"
     ]
    }
   ],
   "source": [
    "movies_df.show(5)"
   ]
  },
  {
   "cell_type": "code",
   "execution_count": 9,
   "metadata": {
    "colab": {
     "base_uri": "https://localhost:8080/"
    },
    "id": "SfNPKL3tr3V9",
    "outputId": "cd6e3000-e3b2-4fab-8a1c-c5554b9116cd"
   },
   "outputs": [
    {
     "name": "stdout",
     "output_type": "stream",
     "text": [
      "+------+-------+------+---------+\n",
      "|userId|movieId|rating|timestamp|\n",
      "+------+-------+------+---------+\n",
      "|     1|      1|   4.0|964982703|\n",
      "|     1|      3|   4.0|964981247|\n",
      "|     1|      6|   4.0|964982224|\n",
      "|     1|     47|   5.0|964983815|\n",
      "|     1|     50|   5.0|964982931|\n",
      "+------+-------+------+---------+\n",
      "only showing top 5 rows\n",
      "\n"
     ]
    }
   ],
   "source": [
    "ratings_df.show(5)"
   ]
  },
  {
   "cell_type": "code",
   "execution_count": 10,
   "metadata": {
    "colab": {
     "base_uri": "https://localhost:8080/"
    },
    "id": "aPNyCI8Jr70H",
    "outputId": "f4387d49-e6a4-4ee3-9350-dfe905aa5adf"
   },
   "outputs": [
    {
     "name": "stdout",
     "output_type": "stream",
     "text": [
      "+-------+-------+------+\n",
      "|movieId| imdbId|tmdbId|\n",
      "+-------+-------+------+\n",
      "|      1|0114709|   862|\n",
      "|      2|0113497|  8844|\n",
      "|      3|0113228| 15602|\n",
      "|      4|0114885| 31357|\n",
      "|      5|0113041| 11862|\n",
      "+-------+-------+------+\n",
      "only showing top 5 rows\n",
      "\n"
     ]
    }
   ],
   "source": [
    "links_df.show(5)"
   ]
  },
  {
   "cell_type": "code",
   "execution_count": 11,
   "metadata": {
    "colab": {
     "base_uri": "https://localhost:8080/"
    },
    "id": "MUwIDFPqsCHO",
    "outputId": "62b1f39b-9e23-43cd-f703-30850c45395d"
   },
   "outputs": [
    {
     "name": "stdout",
     "output_type": "stream",
     "text": [
      "+------+-------+---------------+----------+\n",
      "|userId|movieId|            tag| timestamp|\n",
      "+------+-------+---------------+----------+\n",
      "|     2|  60756|          funny|1445714994|\n",
      "|     2|  60756|Highly quotable|1445714996|\n",
      "|     2|  60756|   will ferrell|1445714992|\n",
      "|     2|  89774|   Boxing story|1445715207|\n",
      "|     2|  89774|            MMA|1445715200|\n",
      "+------+-------+---------------+----------+\n",
      "only showing top 5 rows\n",
      "\n"
     ]
    }
   ],
   "source": [
    "tags_df.show(5)"
   ]
  },
  {
   "cell_type": "code",
   "execution_count": 12,
   "metadata": {
    "colab": {
     "base_uri": "https://localhost:8080/"
    },
    "id": "ahwleNNEsTnd",
    "outputId": "85b1eae7-9b1b-4856-ec45-6b1fcf3b9fed"
   },
   "outputs": [
    {
     "name": "stdout",
     "output_type": "stream",
     "text": [
      "For the users that rated movies and the movies that were rated:\n",
      "Minimum number of ratings per user is 20\n",
      "Minimum number of ratings per movie is 1\n"
     ]
    }
   ],
   "source": [
    "tmp1 = ratings_df.groupBy(\"userID\").count().toPandas()['count'].min()\n",
    "tmp2 = ratings_df.groupBy(\"movieId\").count().toPandas()['count'].min()\n",
    "print('For the users that rated movies and the movies that were rated:')\n",
    "print('Minimum number of ratings per user is {}'.format(tmp1))\n",
    "print('Minimum number of ratings per movie is {}'.format(tmp2))"
   ]
  },
  {
   "cell_type": "code",
   "execution_count": 13,
   "metadata": {
    "colab": {
     "base_uri": "https://localhost:8080/"
    },
    "id": "8lGfTiVosqbT",
    "outputId": "1d51b5e9-974f-4151-998b-d6a8f2cacfac"
   },
   "outputs": [
    {
     "name": "stdout",
     "output_type": "stream",
     "text": [
      "3446 out of 9724 movies are rated by only one user\n"
     ]
    }
   ],
   "source": [
    "tmp1 = sum(ratings_df.groupBy(\"movieId\").count().toPandas()['count'] == 1)\n",
    "tmp2 = ratings_df.select('movieId').distinct().count()\n",
    "print('{} out of {} movies are rated by only one user'.format(tmp1, tmp2))"
   ]
  },
  {
   "cell_type": "markdown",
   "metadata": {
    "id": "FgndPu_A9Vjd"
   },
   "source": [
    "# Part 1: Spark SQL and OLAP"
   ]
  },
  {
   "cell_type": "code",
   "execution_count": 14,
   "metadata": {
    "colab": {
     "base_uri": "https://localhost:8080/"
    },
    "id": "ku0xu_U09hKh",
    "outputId": "c3d6de2d-2c77-4539-db57-7fda25c0b286"
   },
   "outputs": [
    {
     "name": "stderr",
     "output_type": "stream",
     "text": [
      "spark-3.2.1-bin-hadoop3.2/python/pyspark/sql/dataframe.py:140: FutureWarning: Deprecated in 2.0, use createOrReplaceTempView instead.\n",
      "  FutureWarning\n"
     ]
    }
   ],
   "source": [
    "movies_df.registerTempTable(\"movies\")\n",
    "ratings_df.registerTempTable(\"ratings\")\n",
    "links_df.registerTempTable(\"links\")\n",
    "tags_df.registerTempTable(\"tags\")"
   ]
  },
  {
   "cell_type": "markdown",
   "metadata": {
    "id": "LkPzWLsP9k94"
   },
   "source": [
    "### Q1: The number of Users"
   ]
  },
  {
   "cell_type": "code",
   "execution_count": 15,
   "metadata": {
    "colab": {
     "base_uri": "https://localhost:8080/"
    },
    "id": "LcjMeQ5_9n9h",
    "outputId": "76c97b3f-8fae-49b2-b472-061f4171a563"
   },
   "outputs": [
    {
     "name": "stdout",
     "output_type": "stream",
     "text": [
      "+---------------+\n",
      "|Number_of_Users|\n",
      "+---------------+\n",
      "|            610|\n",
      "+---------------+\n",
      "\n"
     ]
    }
   ],
   "source": [
    "q1_result = spark.sql('SELECT count(DISTINCT userID) AS Number_of_Users FROM ratings')\n",
    "q1_result.show()"
   ]
  },
  {
   "cell_type": "markdown",
   "metadata": {
    "id": "MUUb1PH59-3V"
   },
   "source": [
    "### Q2: The number of movies"
   ]
  },
  {
   "cell_type": "code",
   "execution_count": 16,
   "metadata": {
    "colab": {
     "base_uri": "https://localhost:8080/"
    },
    "id": "jvL0Qv2s-Dv0",
    "outputId": "10bd9b72-0efe-4d9e-b1f2-08451429df25"
   },
   "outputs": [
    {
     "name": "stdout",
     "output_type": "stream",
     "text": [
      "+----------------+\n",
      "|Number_of_Movies|\n",
      "+----------------+\n",
      "|            9742|\n",
      "+----------------+\n",
      "\n"
     ]
    }
   ],
   "source": [
    "q2_result = spark.sql('SELECT count(DISTINCT movieId) AS Number_of_Movies FROM movies')\n",
    "q2_result.show()"
   ]
  },
  {
   "cell_type": "markdown",
   "metadata": {
    "id": "OwSqmMMX-EpV"
   },
   "source": [
    "### Q3: How many movies are rated by users? List movies not rated before"
   ]
  },
  {
   "cell_type": "code",
   "execution_count": 17,
   "metadata": {
    "colab": {
     "base_uri": "https://localhost:8080/"
    },
    "id": "trcVd6HM-M9K",
    "outputId": "9e175a52-fad6-4b7e-fab3-67afdd4c3eaf"
   },
   "outputs": [
    {
     "name": "stdout",
     "output_type": "stream",
     "text": [
      "+----------------------+\n",
      "|Number_of_Rated_Movies|\n",
      "+----------------------+\n",
      "|                  9724|\n",
      "+----------------------+\n",
      "\n"
     ]
    }
   ],
   "source": [
    "q3_result_1 = spark.sql('SELECT count(DISTINCT movieId) AS Number_of_Rated_Movies FROM ratings')\n",
    "q3_result_1.show()"
   ]
  },
  {
   "cell_type": "code",
   "execution_count": 18,
   "metadata": {
    "colab": {
     "base_uri": "https://localhost:8080/"
    },
    "id": "6p8xs14_9TnX",
    "outputId": "1f25dac4-2a3a-4c80-f539-74e9c2980a81"
   },
   "outputs": [
    {
     "name": "stdout",
     "output_type": "stream",
     "text": [
      "+-------+--------------------+\n",
      "|movieId|               title|\n",
      "+-------+--------------------+\n",
      "|   1076|Innocents, The (1...|\n",
      "|   2939|      Niagara (1953)|\n",
      "|   3338|For All Mankind (...|\n",
      "|   3456|Color of Paradise...|\n",
      "|   4194|I Know Where I'm ...|\n",
      "|   5721|  Chosen, The (1981)|\n",
      "|   6668|Road Home, The (W...|\n",
      "|   6849|      Scrooge (1970)|\n",
      "|   7020|        Proof (1991)|\n",
      "|   7792|Parallax View, Th...|\n",
      "|   8765|This Gun for Hire...|\n",
      "|  25855|Roaring Twenties,...|\n",
      "|  26085|Mutiny on the Bou...|\n",
      "|  30892|In the Realms of ...|\n",
      "|  32160|Twentieth Century...|\n",
      "|  32371|Call Northside 77...|\n",
      "|  34482|Browning Version,...|\n",
      "|  85565|  Chalet Girl (2011)|\n",
      "+-------+--------------------+\n",
      "\n"
     ]
    }
   ],
   "source": [
    "movie_not_rated = '''\n",
    "SELECT movieId, title\n",
    "FROM movies\n",
    "WHERE movieId not in\n",
    "(SELECT movieId FROM ratings)\n",
    "'''\n",
    "q3_result_2 = spark.sql(movie_not_rated)\n",
    "q3_result_2.show()"
   ]
  },
  {
   "cell_type": "markdown",
   "metadata": {
    "id": "YWnMmDAX-Oq0"
   },
   "source": [
    "### Q4: List movie genres"
   ]
  },
  {
   "cell_type": "code",
   "execution_count": 19,
   "metadata": {
    "colab": {
     "base_uri": "https://localhost:8080/"
    },
    "id": "serWjRUR-SyW",
    "outputId": "12ea77ce-a6b9-4d9b-c3ba-9033bd675657"
   },
   "outputs": [
    {
     "name": "stdout",
     "output_type": "stream",
     "text": [
      "+---------+\n",
      "|   genres|\n",
      "+---------+\n",
      "|Adventure|\n",
      "|Animation|\n",
      "| Children|\n",
      "|   Comedy|\n",
      "|  Fantasy|\n",
      "|Adventure|\n",
      "| Children|\n",
      "|  Fantasy|\n",
      "|   Comedy|\n",
      "|  Romance|\n",
      "|   Comedy|\n",
      "|    Drama|\n",
      "|  Romance|\n",
      "|   Comedy|\n",
      "|   Action|\n",
      "|    Crime|\n",
      "| Thriller|\n",
      "|   Comedy|\n",
      "|  Romance|\n",
      "|Adventure|\n",
      "+---------+\n",
      "only showing top 20 rows\n",
      "\n"
     ]
    }
   ],
   "source": [
    "q4_query = '''\n",
    "SELECT EXPLODE(split(genres, '[|]')) AS genres\n",
    "FROM movies\n",
    "'''\n",
    "q4_result = spark.sql(q4_query)\n",
    "q4_result.show()"
   ]
  },
  {
   "cell_type": "markdown",
   "metadata": {
    "id": "DyUZiclJ-UdX"
   },
   "source": [
    "### Q5: Movie for each category"
   ]
  },
  {
   "cell_type": "code",
   "execution_count": 20,
   "metadata": {
    "colab": {
     "base_uri": "https://localhost:8080/"
    },
    "id": "fZdJBLIB-W7Y",
    "outputId": "35131971-68c3-4327-fb8d-d171c7f60363"
   },
   "outputs": [
    {
     "name": "stdout",
     "output_type": "stream",
     "text": [
      "+------------------+----------+\n",
      "|            genres|Num_Movies|\n",
      "+------------------+----------+\n",
      "|             Drama|      4361|\n",
      "|            Comedy|      3756|\n",
      "|          Thriller|      1894|\n",
      "|            Action|      1828|\n",
      "|           Romance|      1596|\n",
      "|         Adventure|      1263|\n",
      "|             Crime|      1199|\n",
      "|            Sci-Fi|       980|\n",
      "|            Horror|       978|\n",
      "|           Fantasy|       779|\n",
      "|          Children|       664|\n",
      "|         Animation|       611|\n",
      "|           Mystery|       573|\n",
      "|       Documentary|       440|\n",
      "|               War|       382|\n",
      "|           Musical|       334|\n",
      "|           Western|       167|\n",
      "|              IMAX|       158|\n",
      "|         Film-Noir|        87|\n",
      "|(no genres listed)|        34|\n",
      "+------------------+----------+\n",
      "\n"
     ]
    }
   ],
   "source": [
    "q5_query = '''\n",
    "SELECT genres, count(*) AS Num_Movies\n",
    "FROM (SELECT movieId, title, EXPLODE(split(genres, '[|]')) AS genres\n",
    "FROM movies)\n",
    "GROUP BY genres\n",
    "ORDER BY Num_Movies DESC\n",
    "'''\n",
    "spark.sql(q5_query).show()"
   ]
  },
  {
   "cell_type": "code",
   "execution_count": 21,
   "metadata": {
    "colab": {
     "base_uri": "https://localhost:8080/"
    },
    "id": "iYQRHtj_z9yB",
    "outputId": "919d06ab-f2c0-4e6f-e4d4-aeb5f1f544a1"
   },
   "outputs": [
    {
     "name": "stdout",
     "output_type": "stream",
     "text": [
      "+------------------+--------------------+\n",
      "|            genres|           MovieList|\n",
      "+------------------+--------------------+\n",
      "|(no genres listed)|T2 3-D: Battle Ac...|\n",
      "|            Action|Stealing Rembrand...|\n",
      "|         Adventure|Ice Age: Collisio...|\n",
      "|         Animation|Ice Age: Collisio...|\n",
      "|          Children|Ice Age: Collisio...|\n",
      "|            Comedy|Hysteria (2011),H...|\n",
      "|             Crime|Stealing Rembrand...|\n",
      "|       Documentary|The Barkley Marat...|\n",
      "|             Drama|Airport '77 (1977...|\n",
      "|           Fantasy|Masters of the Un...|\n",
      "|         Film-Noir|Rififi (Du rififi...|\n",
      "|            Horror|Underworld: Rise ...|\n",
      "|              IMAX|Harry Potter and ...|\n",
      "|           Musical|U2: Rattle and Hu...|\n",
      "|           Mystery|Before and After ...|\n",
      "|           Romance|Vampire in Brookl...|\n",
      "|            Sci-Fi|Push (2009),SORI:...|\n",
      "|          Thriller|Element of Crime,...|\n",
      "|               War|General, The (192...|\n",
      "|           Western|Man Who Shot Libe...|\n",
      "+------------------+--------------------+\n",
      "\n"
     ]
    }
   ],
   "source": [
    "from pyspark.sql.functions import udf\n",
    "concat_movies = lambda x: ','.join(x)\n",
    "spark.udf.register('concat_movies', concat_movies)\n",
    "\n",
    "q5_query_2 = '''\n",
    "SELECT genres, concat_movies(collect_set(title)) AS MovieList\n",
    "FROM (SELECT movieId, title, EXPLODE(split(genres, '[|]')) AS genres\n",
    "FROM movies)\n",
    "GROUP BY genres\n",
    "ORDER BY genres\n",
    "'''\n",
    "spark.sql(q5_query_2).show()"
   ]
  },
  {
   "cell_type": "markdown",
   "metadata": {
    "id": "D57QENnQ-XYu"
   },
   "source": [
    "# Part2: Spark ALS based approach for training model\n",
    "We will use an Spark ML to predict the ratings, so let's reload \"ratings.csv\" using ``sc.textFile`` and then convert it to the form of (user, item, rating) tuples."
   ]
  },
  {
   "cell_type": "code",
   "execution_count": 22,
   "metadata": {
    "colab": {
     "base_uri": "https://localhost:8080/"
    },
    "id": "_TvAjwHi-f3j",
    "outputId": "bd7e08ed-361f-48b6-ef70-cdb9c1717265"
   },
   "outputs": [
    {
     "name": "stdout",
     "output_type": "stream",
     "text": [
      "+------+-------+------+---------+\n",
      "|userId|movieId|rating|timestamp|\n",
      "+------+-------+------+---------+\n",
      "|     1|      1|   4.0|964982703|\n",
      "|     1|      3|   4.0|964981247|\n",
      "|     1|      6|   4.0|964982224|\n",
      "|     1|     47|   5.0|964983815|\n",
      "|     1|     50|   5.0|964982931|\n",
      "|     1|     70|   3.0|964982400|\n",
      "|     1|    101|   5.0|964980868|\n",
      "|     1|    110|   4.0|964982176|\n",
      "|     1|    151|   5.0|964984041|\n",
      "|     1|    157|   5.0|964984100|\n",
      "|     1|    163|   5.0|964983650|\n",
      "|     1|    216|   5.0|964981208|\n",
      "|     1|    223|   3.0|964980985|\n",
      "|     1|    231|   5.0|964981179|\n",
      "|     1|    235|   4.0|964980908|\n",
      "|     1|    260|   5.0|964981680|\n",
      "|     1|    296|   3.0|964982967|\n",
      "|     1|    316|   3.0|964982310|\n",
      "|     1|    333|   5.0|964981179|\n",
      "|     1|    349|   4.0|964982563|\n",
      "+------+-------+------+---------+\n",
      "only showing top 20 rows\n",
      "\n"
     ]
    }
   ],
   "source": [
    "ratings_df.show()"
   ]
  },
  {
   "cell_type": "code",
   "execution_count": 23,
   "metadata": {
    "id": "fI0TkF3X7PGQ"
   },
   "outputs": [],
   "source": [
    "movie_ratings=ratings_df.drop('timestamp')"
   ]
  },
  {
   "cell_type": "code",
   "execution_count": 24,
   "metadata": {
    "id": "4tOUzL_-7Sji"
   },
   "outputs": [],
   "source": [
    "# Data type convert\n",
    "from pyspark.sql.types import IntegerType, FloatType\n",
    "movie_ratings = movie_ratings.withColumn(\"userId\", movie_ratings[\"userId\"].cast(IntegerType()))\n",
    "movie_ratings = movie_ratings.withColumn(\"movieId\", movie_ratings[\"movieId\"].cast(IntegerType()))\n",
    "movie_ratings = movie_ratings.withColumn(\"rating\", movie_ratings[\"rating\"].cast(FloatType()))"
   ]
  },
  {
   "cell_type": "code",
   "execution_count": 25,
   "metadata": {
    "colab": {
     "base_uri": "https://localhost:8080/"
    },
    "id": "9tLSw5d27f3Y",
    "outputId": "8a04fdde-a757-42df-f2e7-6f61f7046150"
   },
   "outputs": [
    {
     "name": "stdout",
     "output_type": "stream",
     "text": [
      "+------+-------+------+\n",
      "|userId|movieId|rating|\n",
      "+------+-------+------+\n",
      "|     1|      1|   4.0|\n",
      "|     1|      3|   4.0|\n",
      "|     1|      6|   4.0|\n",
      "|     1|     47|   5.0|\n",
      "|     1|     50|   5.0|\n",
      "|     1|     70|   3.0|\n",
      "|     1|    101|   5.0|\n",
      "|     1|    110|   4.0|\n",
      "|     1|    151|   5.0|\n",
      "|     1|    157|   5.0|\n",
      "|     1|    163|   5.0|\n",
      "|     1|    216|   5.0|\n",
      "|     1|    223|   3.0|\n",
      "|     1|    231|   5.0|\n",
      "|     1|    235|   4.0|\n",
      "|     1|    260|   5.0|\n",
      "|     1|    296|   3.0|\n",
      "|     1|    316|   3.0|\n",
      "|     1|    333|   5.0|\n",
      "|     1|    349|   4.0|\n",
      "+------+-------+------+\n",
      "only showing top 20 rows\n",
      "\n"
     ]
    }
   ],
   "source": [
    "movie_ratings.show()"
   ]
  },
  {
   "cell_type": "markdown",
   "metadata": {
    "id": "_FiRx2uG-kVL"
   },
   "source": [
    "## ALS Model Selection and Evaluation\n",
    "With the ALS model, we can use a grid search to find the optimal hyperparameters."
   ]
  },
  {
   "cell_type": "code",
   "execution_count": 26,
   "metadata": {
    "id": "e5Un8F9H-nr5"
   },
   "outputs": [],
   "source": [
    "# import package\n",
    "from pyspark.ml.evaluation import RegressionEvaluator\n",
    "from pyspark.ml.recommendation import ALS\n",
    "from pyspark.ml.tuning import CrossValidator,ParamGridBuilder"
   ]
  },
  {
   "cell_type": "code",
   "execution_count": 27,
   "metadata": {
    "id": "yY0plkME72ON"
   },
   "outputs": [],
   "source": [
    "#Create test and train set\n",
    "(training,test)=movie_ratings.randomSplit([0.8,0.2])"
   ]
  },
  {
   "cell_type": "code",
   "execution_count": 28,
   "metadata": {
    "id": "05Mg-80M8KHv"
   },
   "outputs": [],
   "source": [
    "#Create ALS model\n",
    "als = ALS(maxIter=5, rank=10, regParam=0.01, userCol=\"userId\", itemCol=\"movieId\", ratingCol=\"rating\",\n",
    "          coldStartStrategy=\"drop\")"
   ]
  },
  {
   "cell_type": "code",
   "execution_count": 29,
   "metadata": {
    "id": "ddYBIqnU8ML6"
   },
   "outputs": [],
   "source": [
    "#Tune model using ParamGridBuilder\n",
    "param_grid = ParamGridBuilder() \\\n",
    "            .addGrid(als.rank, [5, 20, 80]) \\\n",
    "            .addGrid(als.maxIter, [1, 5, 10]) \\\n",
    "            .addGrid(als.regParam, [0.05, 0.1, 0.5]) \\\n",
    "            .build()"
   ]
  },
  {
   "cell_type": "code",
   "execution_count": 30,
   "metadata": {
    "id": "HfuKUa4FATlH"
   },
   "outputs": [],
   "source": [
    "# Build and fit the recommendation model using ALS on the training data\n",
    "#model = als.fit(training)\n",
    "# Generate predictions on test data\n",
    "#predictions = model.transform(test)"
   ]
  },
  {
   "cell_type": "code",
   "execution_count": 31,
   "metadata": {
    "id": "aGt_6xX68O_6"
   },
   "outputs": [],
   "source": [
    "# Define evaluator as RMSE\n",
    "# Tell Spark how to evaluate predictions\n",
    "evaluator = RegressionEvaluator(metricName=\"rmse\", labelCol=\"rating\",\n",
    "                                predictionCol=\"prediction\")"
   ]
  },
  {
   "cell_type": "code",
   "execution_count": 32,
   "metadata": {
    "id": "kauwFgPr8QxJ"
   },
   "outputs": [],
   "source": [
    "# Build Cross validation\n",
    "cv = CrossValidator(estimator = als, estimatorParamMaps = param_grid, evaluator = evaluator, numFolds = 5)"
   ]
  },
  {
   "cell_type": "code",
   "execution_count": 33,
   "metadata": {
    "id": "h8OVwRZ_8UBI"
   },
   "outputs": [],
   "source": [
    "#Fit ALS model to training data\n",
    "cvModel = cv.fit(training)"
   ]
  },
  {
   "cell_type": "code",
   "execution_count": 34,
   "metadata": {
    "id": "lhfK0jG78XBe"
   },
   "outputs": [],
   "source": [
    "#Extract best model from the tuning exercise using ParamGridBuilder\n",
    "bestModel = cvModel.bestModel"
   ]
  },
  {
   "cell_type": "markdown",
   "metadata": {
    "id": "AMuU3O_0-0V8"
   },
   "source": [
    "# Model Testing\n",
    "And finally, make a prediction and check the testing error."
   ]
  },
  {
   "cell_type": "code",
   "execution_count": 35,
   "metadata": {
    "colab": {
     "base_uri": "https://localhost:8080/"
    },
    "id": "VOD9lK8p-4yV",
    "outputId": "86957960-5e56-4ef5-f5cf-ddf578cdc29f"
   },
   "outputs": [
    {
     "name": "stdout",
     "output_type": "stream",
     "text": [
      "Root-mean-square error = 0.4516656450482216\n"
     ]
    }
   ],
   "source": [
    "predictions = bestModel.transform(training)\n",
    "rmse = evaluator.evaluate(predictions)\n",
    "print(\"Root-mean-square error = \" + str(rmse))"
   ]
  },
  {
   "cell_type": "code",
   "execution_count": 36,
   "metadata": {
    "colab": {
     "base_uri": "https://localhost:8080/"
    },
    "id": "_tN3L-FqMA4q",
    "outputId": "f4ec77f8-d3ef-46dd-9e2f-42a0a6c1e832"
   },
   "outputs": [
    {
     "name": "stdout",
     "output_type": "stream",
     "text": [
      "---Best Model---\n",
      "Rank:  80\n",
      "regParam:  0.1\n",
      "maxIter:  10\n"
     ]
    }
   ],
   "source": [
    "#Print evaluation metrics and model parameters\n",
    "print('---Best Model---')\n",
    "print('Rank: ', bestModel._java_obj.parent().getRank())\n",
    "print('regParam: ', bestModel._java_obj.parent().getRegParam())\n",
    "print('maxIter: ', bestModel._java_obj.parent().getMaxIter())"
   ]
  },
  {
   "cell_type": "code",
   "execution_count": 37,
   "metadata": {
    "colab": {
     "base_uri": "https://localhost:8080/"
    },
    "id": "iQNYpaYXMC_d",
    "outputId": "56a0689b-5f2e-4555-c5be-9f42d4611494"
   },
   "outputs": [
    {
     "name": "stdout",
     "output_type": "stream",
     "text": [
      "+------+-------+------+----------+\n",
      "|userId|movieId|rating|prediction|\n",
      "+------+-------+------+----------+\n",
      "|   148|   1197|   3.0| 3.5508718|\n",
      "|   148|   4896|   4.0|  3.779701|\n",
      "|   148|   4993|   3.0| 3.1318376|\n",
      "|   148|   5618|   3.0|  3.370928|\n",
      "|   148|   5816|   4.0| 3.7675152|\n",
      "|   148|   5952|   3.0|  3.150608|\n",
      "|   148|   7153|   3.0| 3.2662375|\n",
      "|   148|   8368|   4.0| 3.9628048|\n",
      "|   148|  40629|   5.0| 4.2056103|\n",
      "|   148|  44191|   4.0| 3.6175473|\n",
      "|   148|  50872|   3.0|  3.458837|\n",
      "|   148|  54001|   4.0| 3.7767105|\n",
      "|   148|  60069|   4.5| 3.9827845|\n",
      "|   148|  68954|   4.0| 4.0239353|\n",
      "|   148|  69757|   3.5| 3.5186436|\n",
      "|   148|  69844|   4.0| 3.8859644|\n",
      "|   148|  72998|   4.0| 3.5891728|\n",
      "|   148|  79132|   1.5| 2.9572644|\n",
      "|   148|  79702|   4.0|  3.763425|\n",
      "|   148|  81834|   4.0| 4.0631843|\n",
      "+------+-------+------+----------+\n",
      "only showing top 20 rows\n",
      "\n"
     ]
    }
   ],
   "source": [
    "predictions.show()"
   ]
  },
  {
   "cell_type": "markdown",
   "metadata": {
    "id": "iWOAjKor-8eX"
   },
   "source": [
    "## Model Apply and see the performance"
   ]
  },
  {
   "cell_type": "code",
   "execution_count": 38,
   "metadata": {
    "colab": {
     "base_uri": "https://localhost:8080/"
    },
    "id": "xlGqlCd5-_AB",
    "outputId": "6bf50b1d-de88-4157-9fb6-5ab50a18b38f"
   },
   "outputs": [
    {
     "name": "stdout",
     "output_type": "stream",
     "text": [
      "RMSE = 0.560407733578558\n"
     ]
    }
   ],
   "source": [
    "alldata = bestModel.transform(movie_ratings)\n",
    "rmse = evaluator.evaluate(alldata)\n",
    "print (\"RMSE = \"+str(rmse))"
   ]
  },
  {
   "cell_type": "code",
   "execution_count": 39,
   "metadata": {
    "id": "4j52h_LfNNRP"
   },
   "outputs": [],
   "source": [
    "alldata.createOrReplaceTempView(\"alldata\")"
   ]
  },
  {
   "cell_type": "code",
   "execution_count": 40,
   "metadata": {
    "colab": {
     "base_uri": "https://localhost:8080/"
    },
    "id": "YSW7bub4NRQ9",
    "outputId": "4830a0d2-2ec9-4454-d92e-7826423e7bcd"
   },
   "outputs": [
    {
     "name": "stdout",
     "output_type": "stream",
     "text": [
      "+------+-------+------+----------+\n",
      "|userId|movieId|rating|prediction|\n",
      "+------+-------+------+----------+\n",
      "|   463|   1088|   3.5| 3.3214397|\n",
      "|   137|   1580|   3.5| 3.2332358|\n",
      "|   580|   1580|   4.0| 3.5752473|\n",
      "|   580|   3175|   2.5|  3.191332|\n",
      "|   580|  44022|   3.5| 3.4787579|\n",
      "|   133|    471|   4.0| 3.4408293|\n",
      "|   322|   1580|   3.5|  3.116364|\n",
      "|   362|   1591|   4.0|  3.337042|\n",
      "|   362|   1645|   5.0| 3.9485297|\n",
      "|   593|   1580|   1.5| 2.3164692|\n",
      "|   597|    471|   2.0| 2.7939858|\n",
      "|   597|   1580|   3.0|   3.27649|\n",
      "|   597|   1959|   4.0| 3.9473586|\n",
      "|   597|   2366|   5.0| 3.8442469|\n",
      "|   108|   1959|   5.0| 4.5452566|\n",
      "|   155|   1580|   4.0| 3.9446092|\n",
      "|   155|   3175|   4.0| 3.8770685|\n",
      "|    34|   1580|   2.5| 2.9747825|\n",
      "|    34|   3997|   2.0| 1.8643966|\n",
      "|   368|   1580|   3.0| 2.9085107|\n",
      "+------+-------+------+----------+\n",
      "only showing top 20 rows\n",
      "\n"
     ]
    }
   ],
   "source": [
    "spark.sql(\"Select * From alldata\").show()"
   ]
  },
  {
   "cell_type": "code",
   "execution_count": 41,
   "metadata": {
    "colab": {
     "base_uri": "https://localhost:8080/"
    },
    "id": "OcTph3R-NUl-",
    "outputId": "e4d8ad8f-3721-4977-f553-4a9fb51dcaaa"
   },
   "outputs": [
    {
     "name": "stdout",
     "output_type": "stream",
     "text": [
      "+-------+--------------------+--------------------+------+-------+------+----------+\n",
      "|movieId|               title|              genres|userId|movieId|rating|prediction|\n",
      "+-------+--------------------+--------------------+------+-------+------+----------+\n",
      "|    356| Forrest Gump (1994)|Comedy|Drama|Roma...|   148|    356|   4.0|   3.72073|\n",
      "|   1197|Princess Bride, T...|Action|Adventure|...|   148|   1197|   3.0| 3.5508718|\n",
      "|   4308| Moulin Rouge (2001)|Drama|Musical|Rom...|   148|   4308|   4.0| 3.0344296|\n",
      "|   4886|Monsters, Inc. (2...|Adventure|Animati...|   148|   4886|   3.0|  3.784968|\n",
      "|   4896|Harry Potter and ...|Adventure|Childre...|   148|   4896|   4.0|  3.779701|\n",
      "|   4993|Lord of the Rings...|   Adventure|Fantasy|   148|   4993|   3.0| 3.1318376|\n",
      "|   5618|Spirited Away (Se...|Adventure|Animati...|   148|   5618|   3.0|  3.370928|\n",
      "|   5816|Harry Potter and ...|   Adventure|Fantasy|   148|   5816|   4.0| 3.7675152|\n",
      "|   5952|Lord of the Rings...|   Adventure|Fantasy|   148|   5952|   3.0|  3.150608|\n",
      "|   6377| Finding Nemo (2003)|Adventure|Animati...|   148|   6377|   3.0| 4.0429554|\n",
      "|   7153|Lord of the Rings...|Action|Adventure|...|   148|   7153|   3.0| 3.2662375|\n",
      "|   8368|Harry Potter and ...|Adventure|Fantasy...|   148|   8368|   4.0| 3.9628048|\n",
      "|  30816|Phantom of the Op...|Drama|Musical|Rom...|   148|  30816|   5.0| 2.8638778|\n",
      "|  31658|Howl's Moving Cas...|Adventure|Animati...|   148|  31658|   4.0|  3.580394|\n",
      "|  40629|Pride & Prejudice...|       Drama|Romance|   148|  40629|   5.0| 4.2056103|\n",
      "|  40815|Harry Potter and ...|Adventure|Fantasy...|   148|  40815|   4.0|  3.588995|\n",
      "|  44191|V for Vendetta (2...|Action|Sci-Fi|Thr...|   148|  44191|   4.0| 3.6175473|\n",
      "|  50872|  Ratatouille (2007)|Animation|Childre...|   148|  50872|   3.0|  3.458837|\n",
      "|  54001|Harry Potter and ...|Adventure|Drama|F...|   148|  54001|   4.0| 3.7767105|\n",
      "|  60069|       WALL·E (2008)|Adventure|Animati...|   148|  60069|   4.5| 3.9827845|\n",
      "+-------+--------------------+--------------------+------+-------+------+----------+\n",
      "only showing top 20 rows\n",
      "\n"
     ]
    }
   ],
   "source": [
    "spark.sql('select * from movies join alldata on movies.movieId=alldata.movieId').show()"
   ]
  },
  {
   "cell_type": "markdown",
   "metadata": {
    "id": "Fdhd16fk_BwG"
   },
   "source": [
    "# Recommend movie to users with id: 575, 232"
   ]
  },
  {
   "cell_type": "code",
   "execution_count": 56,
   "metadata": {
    "id": "WlNLYVWkFnLm"
   },
   "outputs": [],
   "source": [
    "def topKRec(k,id,model):\n",
    "  #k: the number of movies to recommend\n",
    "  #id: the id of the user to give recommendations\n",
    "  #model: the trained model for recommendation\n",
    "\n",
    "  all_recs_df = model.recommendForAllUsers(k)\n",
    "  all_recs_df.registerTempTable('all_recs')\n",
    "  all_recs_clean = spark.sql('SELECT userId, idNrating.movieId AS movieId, idNrating.rating AS prediction\\\n",
    "  FROM all_recs\\\n",
    "  LATERAL VIEW explode(recommendations) exploded_table AS idNrating')\n",
    "\n",
    "  temp = all_recs_clean.join(movie_ratings, ['userId','movieId'], how='left').filter(movie_ratings.rating.isNull())\n",
    "  final= temp.join(movies_df, on='movieId', how='left')\n",
    "\n",
    "  userRec = final.where(final.userId==id).toPandas()\n",
    "  return userRec"
   ]
  },
  {
   "cell_type": "code",
   "execution_count": 57,
   "metadata": {
    "colab": {
     "base_uri": "https://localhost:8080/",
     "height": 338
    },
    "id": "fUmamInYHl1C",
    "outputId": "15fb92c5-85f0-40d4-ae83-8a9aded80698"
   },
   "outputs": [
    {
     "name": "stderr",
     "output_type": "stream",
     "text": [
      "spark-3.2.1-bin-hadoop3.2/python/pyspark/sql/context.py:127: FutureWarning: Deprecated in 3.0.0. Use SparkSession.builder.getOrCreate() instead.\n",
      "  FutureWarning\n",
      "spark-3.2.1-bin-hadoop3.2/python/pyspark/sql/dataframe.py:140: FutureWarning: Deprecated in 2.0, use createOrReplaceTempView instead.\n",
      "  FutureWarning\n"
     ]
    },
    {
     "data": {
      "text/html": [
       "\n",
       "  <div id=\"df-cf2aecd9-f8d5-416e-bc6a-6cad6ad7046b\">\n",
       "    <div class=\"colab-df-container\">\n",
       "      <div>\n",
       "<style scoped>\n",
       "    .dataframe tbody tr th:only-of-type {\n",
       "        vertical-align: middle;\n",
       "    }\n",
       "\n",
       "    .dataframe tbody tr th {\n",
       "        vertical-align: top;\n",
       "    }\n",
       "\n",
       "    .dataframe thead th {\n",
       "        text-align: right;\n",
       "    }\n",
       "</style>\n",
       "<table border=\"1\" class=\"dataframe\">\n",
       "  <thead>\n",
       "    <tr style=\"text-align: right;\">\n",
       "      <th></th>\n",
       "      <th>movieId</th>\n",
       "      <th>userId</th>\n",
       "      <th>prediction</th>\n",
       "      <th>rating</th>\n",
       "      <th>title</th>\n",
       "      <th>genres</th>\n",
       "    </tr>\n",
       "  </thead>\n",
       "  <tbody>\n",
       "    <tr>\n",
       "      <th>0</th>\n",
       "      <td>177593</td>\n",
       "      <td>575</td>\n",
       "      <td>4.489295</td>\n",
       "      <td>NaN</td>\n",
       "      <td>Three Billboards Outside Ebbing, Missouri (2017)</td>\n",
       "      <td>Crime|Drama</td>\n",
       "    </tr>\n",
       "    <tr>\n",
       "      <th>1</th>\n",
       "      <td>2160</td>\n",
       "      <td>575</td>\n",
       "      <td>4.327541</td>\n",
       "      <td>NaN</td>\n",
       "      <td>Rosemary's Baby (1968)</td>\n",
       "      <td>Drama|Horror|Thriller</td>\n",
       "    </tr>\n",
       "    <tr>\n",
       "      <th>2</th>\n",
       "      <td>158966</td>\n",
       "      <td>575</td>\n",
       "      <td>4.295100</td>\n",
       "      <td>NaN</td>\n",
       "      <td>Captain Fantastic (2016)</td>\n",
       "      <td>Drama</td>\n",
       "    </tr>\n",
       "    <tr>\n",
       "      <th>3</th>\n",
       "      <td>50</td>\n",
       "      <td>575</td>\n",
       "      <td>4.293466</td>\n",
       "      <td>NaN</td>\n",
       "      <td>Usual Suspects, The (1995)</td>\n",
       "      <td>Crime|Mystery|Thriller</td>\n",
       "    </tr>\n",
       "    <tr>\n",
       "      <th>4</th>\n",
       "      <td>104879</td>\n",
       "      <td>575</td>\n",
       "      <td>4.250824</td>\n",
       "      <td>NaN</td>\n",
       "      <td>Prisoners (2013)</td>\n",
       "      <td>Drama|Mystery|Thriller</td>\n",
       "    </tr>\n",
       "    <tr>\n",
       "      <th>5</th>\n",
       "      <td>174053</td>\n",
       "      <td>575</td>\n",
       "      <td>4.245746</td>\n",
       "      <td>NaN</td>\n",
       "      <td>Black Mirror: White Christmas (2014)</td>\n",
       "      <td>Drama|Horror|Mystery|Sci-Fi|Thriller</td>\n",
       "    </tr>\n",
       "    <tr>\n",
       "      <th>6</th>\n",
       "      <td>48516</td>\n",
       "      <td>575</td>\n",
       "      <td>4.223469</td>\n",
       "      <td>NaN</td>\n",
       "      <td>Departed, The (2006)</td>\n",
       "      <td>Crime|Drama|Thriller</td>\n",
       "    </tr>\n",
       "  </tbody>\n",
       "</table>\n",
       "</div>\n",
       "      <button class=\"colab-df-convert\" onclick=\"convertToInteractive('df-cf2aecd9-f8d5-416e-bc6a-6cad6ad7046b')\"\n",
       "              title=\"Convert this dataframe to an interactive table.\"\n",
       "              style=\"display:none;\">\n",
       "        \n",
       "  <svg xmlns=\"http://www.w3.org/2000/svg\" height=\"24px\"viewBox=\"0 0 24 24\"\n",
       "       width=\"24px\">\n",
       "    <path d=\"M0 0h24v24H0V0z\" fill=\"none\"/>\n",
       "    <path d=\"M18.56 5.44l.94 2.06.94-2.06 2.06-.94-2.06-.94-.94-2.06-.94 2.06-2.06.94zm-11 1L8.5 8.5l.94-2.06 2.06-.94-2.06-.94L8.5 2.5l-.94 2.06-2.06.94zm10 10l.94 2.06.94-2.06 2.06-.94-2.06-.94-.94-2.06-.94 2.06-2.06.94z\"/><path d=\"M17.41 7.96l-1.37-1.37c-.4-.4-.92-.59-1.43-.59-.52 0-1.04.2-1.43.59L10.3 9.45l-7.72 7.72c-.78.78-.78 2.05 0 2.83L4 21.41c.39.39.9.59 1.41.59.51 0 1.02-.2 1.41-.59l7.78-7.78 2.81-2.81c.8-.78.8-2.07 0-2.86zM5.41 20L4 18.59l7.72-7.72 1.47 1.35L5.41 20z\"/>\n",
       "  </svg>\n",
       "      </button>\n",
       "      \n",
       "  <style>\n",
       "    .colab-df-container {\n",
       "      display:flex;\n",
       "      flex-wrap:wrap;\n",
       "      gap: 12px;\n",
       "    }\n",
       "\n",
       "    .colab-df-convert {\n",
       "      background-color: #E8F0FE;\n",
       "      border: none;\n",
       "      border-radius: 50%;\n",
       "      cursor: pointer;\n",
       "      display: none;\n",
       "      fill: #1967D2;\n",
       "      height: 32px;\n",
       "      padding: 0 0 0 0;\n",
       "      width: 32px;\n",
       "    }\n",
       "\n",
       "    .colab-df-convert:hover {\n",
       "      background-color: #E2EBFA;\n",
       "      box-shadow: 0px 1px 2px rgba(60, 64, 67, 0.3), 0px 1px 3px 1px rgba(60, 64, 67, 0.15);\n",
       "      fill: #174EA6;\n",
       "    }\n",
       "\n",
       "    [theme=dark] .colab-df-convert {\n",
       "      background-color: #3B4455;\n",
       "      fill: #D2E3FC;\n",
       "    }\n",
       "\n",
       "    [theme=dark] .colab-df-convert:hover {\n",
       "      background-color: #434B5C;\n",
       "      box-shadow: 0px 1px 3px 1px rgba(0, 0, 0, 0.15);\n",
       "      filter: drop-shadow(0px 1px 2px rgba(0, 0, 0, 0.3));\n",
       "      fill: #FFFFFF;\n",
       "    }\n",
       "  </style>\n",
       "\n",
       "      <script>\n",
       "        const buttonEl =\n",
       "          document.querySelector('#df-cf2aecd9-f8d5-416e-bc6a-6cad6ad7046b button.colab-df-convert');\n",
       "        buttonEl.style.display =\n",
       "          google.colab.kernel.accessAllowed ? 'block' : 'none';\n",
       "\n",
       "        async function convertToInteractive(key) {\n",
       "          const element = document.querySelector('#df-cf2aecd9-f8d5-416e-bc6a-6cad6ad7046b');\n",
       "          const dataTable =\n",
       "            await google.colab.kernel.invokeFunction('convertToInteractive',\n",
       "                                                     [key], {});\n",
       "          if (!dataTable) return;\n",
       "\n",
       "          const docLinkHtml = 'Like what you see? Visit the ' +\n",
       "            '<a target=\"_blank\" href=https://colab.research.google.com/notebooks/data_table.ipynb>data table notebook</a>'\n",
       "            + ' to learn more about interactive tables.';\n",
       "          element.innerHTML = '';\n",
       "          dataTable['output_type'] = 'display_data';\n",
       "          await google.colab.output.renderOutput(dataTable, element);\n",
       "          const docLink = document.createElement('div');\n",
       "          docLink.innerHTML = docLinkHtml;\n",
       "          element.appendChild(docLink);\n",
       "        }\n",
       "      </script>\n",
       "    </div>\n",
       "  </div>\n",
       "  "
      ],
      "text/plain": [
       "   movieId  ...                                genres\n",
       "0   177593  ...                           Crime|Drama\n",
       "1     2160  ...                 Drama|Horror|Thriller\n",
       "2   158966  ...                                 Drama\n",
       "3       50  ...                Crime|Mystery|Thriller\n",
       "4   104879  ...                Drama|Mystery|Thriller\n",
       "5   174053  ...  Drama|Horror|Mystery|Sci-Fi|Thriller\n",
       "6    48516  ...                  Crime|Drama|Thriller\n",
       "\n",
       "[7 rows x 6 columns]"
      ]
     },
     "execution_count": 57,
     "metadata": {},
     "output_type": "execute_result"
    }
   ],
   "source": [
    "topKRec(10,575,bestModel)"
   ]
  },
  {
   "cell_type": "code",
   "execution_count": 58,
   "metadata": {
    "colab": {
     "base_uri": "https://localhost:8080/",
     "height": 401
    },
    "id": "J8REZNN7egn0",
    "outputId": "24556acc-552e-44e9-f4f6-09f65ad7f982"
   },
   "outputs": [
    {
     "name": "stderr",
     "output_type": "stream",
     "text": [
      "spark-3.2.1-bin-hadoop3.2/python/pyspark/sql/context.py:127: FutureWarning: Deprecated in 3.0.0. Use SparkSession.builder.getOrCreate() instead.\n",
      "  FutureWarning\n",
      "spark-3.2.1-bin-hadoop3.2/python/pyspark/sql/dataframe.py:140: FutureWarning: Deprecated in 2.0, use createOrReplaceTempView instead.\n",
      "  FutureWarning\n"
     ]
    },
    {
     "data": {
      "text/html": [
       "\n",
       "  <div id=\"df-28da9470-de6d-491b-960c-be71ef8aa576\">\n",
       "    <div class=\"colab-df-container\">\n",
       "      <div>\n",
       "<style scoped>\n",
       "    .dataframe tbody tr th:only-of-type {\n",
       "        vertical-align: middle;\n",
       "    }\n",
       "\n",
       "    .dataframe tbody tr th {\n",
       "        vertical-align: top;\n",
       "    }\n",
       "\n",
       "    .dataframe thead th {\n",
       "        text-align: right;\n",
       "    }\n",
       "</style>\n",
       "<table border=\"1\" class=\"dataframe\">\n",
       "  <thead>\n",
       "    <tr style=\"text-align: right;\">\n",
       "      <th></th>\n",
       "      <th>movieId</th>\n",
       "      <th>userId</th>\n",
       "      <th>prediction</th>\n",
       "      <th>rating</th>\n",
       "      <th>title</th>\n",
       "      <th>genres</th>\n",
       "    </tr>\n",
       "  </thead>\n",
       "  <tbody>\n",
       "    <tr>\n",
       "      <th>0</th>\n",
       "      <td>171495</td>\n",
       "      <td>232</td>\n",
       "      <td>4.421206</td>\n",
       "      <td>NaN</td>\n",
       "      <td>Cosmos</td>\n",
       "      <td>(no genres listed)</td>\n",
       "    </tr>\n",
       "    <tr>\n",
       "      <th>1</th>\n",
       "      <td>78836</td>\n",
       "      <td>232</td>\n",
       "      <td>4.374097</td>\n",
       "      <td>NaN</td>\n",
       "      <td>Enter the Void (2009)</td>\n",
       "      <td>Drama</td>\n",
       "    </tr>\n",
       "    <tr>\n",
       "      <th>2</th>\n",
       "      <td>2131</td>\n",
       "      <td>232</td>\n",
       "      <td>4.278293</td>\n",
       "      <td>NaN</td>\n",
       "      <td>Autumn Sonata (Höstsonaten) (1978)</td>\n",
       "      <td>Drama</td>\n",
       "    </tr>\n",
       "    <tr>\n",
       "      <th>3</th>\n",
       "      <td>177593</td>\n",
       "      <td>232</td>\n",
       "      <td>4.277124</td>\n",
       "      <td>NaN</td>\n",
       "      <td>Three Billboards Outside Ebbing, Missouri (2017)</td>\n",
       "      <td>Crime|Drama</td>\n",
       "    </tr>\n",
       "    <tr>\n",
       "      <th>4</th>\n",
       "      <td>179135</td>\n",
       "      <td>232</td>\n",
       "      <td>4.269114</td>\n",
       "      <td>NaN</td>\n",
       "      <td>Blue Planet II (2017)</td>\n",
       "      <td>Documentary</td>\n",
       "    </tr>\n",
       "    <tr>\n",
       "      <th>5</th>\n",
       "      <td>117531</td>\n",
       "      <td>232</td>\n",
       "      <td>4.269114</td>\n",
       "      <td>NaN</td>\n",
       "      <td>Watermark (2014)</td>\n",
       "      <td>Documentary</td>\n",
       "    </tr>\n",
       "    <tr>\n",
       "      <th>6</th>\n",
       "      <td>184245</td>\n",
       "      <td>232</td>\n",
       "      <td>4.269114</td>\n",
       "      <td>NaN</td>\n",
       "      <td>De platte jungle (1978)</td>\n",
       "      <td>Documentary</td>\n",
       "    </tr>\n",
       "    <tr>\n",
       "      <th>7</th>\n",
       "      <td>7071</td>\n",
       "      <td>232</td>\n",
       "      <td>4.269114</td>\n",
       "      <td>NaN</td>\n",
       "      <td>Woman Under the Influence, A (1974)</td>\n",
       "      <td>Drama</td>\n",
       "    </tr>\n",
       "    <tr>\n",
       "      <th>8</th>\n",
       "      <td>26073</td>\n",
       "      <td>232</td>\n",
       "      <td>4.269114</td>\n",
       "      <td>NaN</td>\n",
       "      <td>Human Condition III, The (Ningen no joken III)...</td>\n",
       "      <td>Drama|War</td>\n",
       "    </tr>\n",
       "  </tbody>\n",
       "</table>\n",
       "</div>\n",
       "      <button class=\"colab-df-convert\" onclick=\"convertToInteractive('df-28da9470-de6d-491b-960c-be71ef8aa576')\"\n",
       "              title=\"Convert this dataframe to an interactive table.\"\n",
       "              style=\"display:none;\">\n",
       "        \n",
       "  <svg xmlns=\"http://www.w3.org/2000/svg\" height=\"24px\"viewBox=\"0 0 24 24\"\n",
       "       width=\"24px\">\n",
       "    <path d=\"M0 0h24v24H0V0z\" fill=\"none\"/>\n",
       "    <path d=\"M18.56 5.44l.94 2.06.94-2.06 2.06-.94-2.06-.94-.94-2.06-.94 2.06-2.06.94zm-11 1L8.5 8.5l.94-2.06 2.06-.94-2.06-.94L8.5 2.5l-.94 2.06-2.06.94zm10 10l.94 2.06.94-2.06 2.06-.94-2.06-.94-.94-2.06-.94 2.06-2.06.94z\"/><path d=\"M17.41 7.96l-1.37-1.37c-.4-.4-.92-.59-1.43-.59-.52 0-1.04.2-1.43.59L10.3 9.45l-7.72 7.72c-.78.78-.78 2.05 0 2.83L4 21.41c.39.39.9.59 1.41.59.51 0 1.02-.2 1.41-.59l7.78-7.78 2.81-2.81c.8-.78.8-2.07 0-2.86zM5.41 20L4 18.59l7.72-7.72 1.47 1.35L5.41 20z\"/>\n",
       "  </svg>\n",
       "      </button>\n",
       "      \n",
       "  <style>\n",
       "    .colab-df-container {\n",
       "      display:flex;\n",
       "      flex-wrap:wrap;\n",
       "      gap: 12px;\n",
       "    }\n",
       "\n",
       "    .colab-df-convert {\n",
       "      background-color: #E8F0FE;\n",
       "      border: none;\n",
       "      border-radius: 50%;\n",
       "      cursor: pointer;\n",
       "      display: none;\n",
       "      fill: #1967D2;\n",
       "      height: 32px;\n",
       "      padding: 0 0 0 0;\n",
       "      width: 32px;\n",
       "    }\n",
       "\n",
       "    .colab-df-convert:hover {\n",
       "      background-color: #E2EBFA;\n",
       "      box-shadow: 0px 1px 2px rgba(60, 64, 67, 0.3), 0px 1px 3px 1px rgba(60, 64, 67, 0.15);\n",
       "      fill: #174EA6;\n",
       "    }\n",
       "\n",
       "    [theme=dark] .colab-df-convert {\n",
       "      background-color: #3B4455;\n",
       "      fill: #D2E3FC;\n",
       "    }\n",
       "\n",
       "    [theme=dark] .colab-df-convert:hover {\n",
       "      background-color: #434B5C;\n",
       "      box-shadow: 0px 1px 3px 1px rgba(0, 0, 0, 0.15);\n",
       "      filter: drop-shadow(0px 1px 2px rgba(0, 0, 0, 0.3));\n",
       "      fill: #FFFFFF;\n",
       "    }\n",
       "  </style>\n",
       "\n",
       "      <script>\n",
       "        const buttonEl =\n",
       "          document.querySelector('#df-28da9470-de6d-491b-960c-be71ef8aa576 button.colab-df-convert');\n",
       "        buttonEl.style.display =\n",
       "          google.colab.kernel.accessAllowed ? 'block' : 'none';\n",
       "\n",
       "        async function convertToInteractive(key) {\n",
       "          const element = document.querySelector('#df-28da9470-de6d-491b-960c-be71ef8aa576');\n",
       "          const dataTable =\n",
       "            await google.colab.kernel.invokeFunction('convertToInteractive',\n",
       "                                                     [key], {});\n",
       "          if (!dataTable) return;\n",
       "\n",
       "          const docLinkHtml = 'Like what you see? Visit the ' +\n",
       "            '<a target=\"_blank\" href=https://colab.research.google.com/notebooks/data_table.ipynb>data table notebook</a>'\n",
       "            + ' to learn more about interactive tables.';\n",
       "          element.innerHTML = '';\n",
       "          dataTable['output_type'] = 'display_data';\n",
       "          await google.colab.output.renderOutput(dataTable, element);\n",
       "          const docLink = document.createElement('div');\n",
       "          docLink.innerHTML = docLinkHtml;\n",
       "          element.appendChild(docLink);\n",
       "        }\n",
       "      </script>\n",
       "    </div>\n",
       "  </div>\n",
       "  "
      ],
      "text/plain": [
       "   movieId  ...              genres\n",
       "0   171495  ...  (no genres listed)\n",
       "1    78836  ...               Drama\n",
       "2     2131  ...               Drama\n",
       "3   177593  ...         Crime|Drama\n",
       "4   179135  ...         Documentary\n",
       "5   117531  ...         Documentary\n",
       "6   184245  ...         Documentary\n",
       "7     7071  ...               Drama\n",
       "8    26073  ...           Drama|War\n",
       "\n",
       "[9 rows x 6 columns]"
      ]
     },
     "execution_count": 58,
     "metadata": {},
     "output_type": "execute_result"
    }
   ],
   "source": [
    "topKRec(10,232,bestModel)"
   ]
  },
  {
   "cell_type": "markdown",
   "metadata": {
    "id": "D2bFJl0X_G8H"
   },
   "source": [
    "# Find the similar movies for movie with id: 463,471"
   ]
  },
  {
   "cell_type": "code",
   "execution_count": 108,
   "metadata": {
    "colab": {
     "base_uri": "https://localhost:8080/"
    },
    "id": "fkXQas4I_Lw3",
    "outputId": "31db4f1f-f514-4202-babc-e714f35a235a"
   },
   "outputs": [
    {
     "name": "stderr",
     "output_type": "stream",
     "text": [
      "spark-3.2.1-bin-hadoop3.2/python/pyspark/sql/context.py:127: FutureWarning: Deprecated in 3.0.0. Use SparkSession.builder.getOrCreate() instead.\n",
      "  FutureWarning\n"
     ]
    },
    {
     "name": "stdout",
     "output_type": "stream",
     "text": [
      "+---+------------+-----------+-------------+------------+------------+------------+------------+-----------+------------+-------------+------------+------------+-------------+-------------+------------+------------+------------+------------+------------+------------+------------+------------+------------+------------+------------+------------+------------+------------+------------+------------+-------------+------------+------------+------------+------------+------------+------------+------------+------------+------------+------------+------------+------------+------------+------------+------------+-------------+------------+-------------+------------+------------+------------+------------+------------+------------+-------------+------------+-------------+------------+------------+------------+------------+------------+-------------+------------+------------+------------+------------+------------+------------+------------+------------+------------+------------+------------+------------+------------+------------+------------+------------+\n",
      "| id| features[0]|features[1]|  features[2]| features[3]| features[4]| features[5]| features[6]|features[7]| features[8]|  features[9]|features[10]|features[11]| features[12]| features[13]|features[14]|features[15]|features[16]|features[17]|features[18]|features[19]|features[20]|features[21]|features[22]|features[23]|features[24]|features[25]|features[26]|features[27]|features[28]|features[29]| features[30]|features[31]|features[32]|features[33]|features[34]|features[35]|features[36]|features[37]|features[38]|features[39]|features[40]|features[41]|features[42]|features[43]|features[44]|features[45]| features[46]|features[47]| features[48]|features[49]|features[50]|features[51]|features[52]|features[53]|features[54]| features[55]|features[56]| features[57]|features[58]|features[59]|features[60]|features[61]|features[62]| features[63]|features[64]|features[65]|features[66]|features[67]|features[68]|features[69]|features[70]|features[71]|features[72]|features[73]|features[74]|features[75]|features[76]|features[77]|features[78]|features[79]|\n",
      "+---+------------+-----------+-------------+------------+------------+------------+------------+-----------+------------+-------------+------------+------------+-------------+-------------+------------+------------+------------+------------+------------+------------+------------+------------+------------+------------+------------+------------+------------+------------+------------+------------+-------------+------------+------------+------------+------------+------------+------------+------------+------------+------------+------------+------------+------------+------------+------------+------------+-------------+------------+-------------+------------+------------+------------+------------+------------+------------+-------------+------------+-------------+------------+------------+------------+------------+------------+-------------+------------+------------+------------+------------+------------+------------+------------+------------+------------+------------+------------+------------+------------+------------+------------+------------+\n",
      "| 10| -0.02601018| 0.18641135|   0.15651116| -0.18235762|  -0.1522667|   0.3320552|  0.21573739|  0.0410433| -0.05180457|   0.06252074|  0.44179717| 4.992992E-4|  -0.04986808|  -0.10306402|  0.08929595| -0.24821721| -0.10713274|  0.16777442| 0.051080078| -0.16213132|   0.6335877|   0.1927447|  0.21465792| -0.20055287|  0.49759862| 0.089150295|  0.32017764|  0.17156394| -0.11397886| 0.120612286|   0.21311568|-0.010828957| -0.18674393| -0.22804745|  -0.3559612|  0.27696213|  -0.2765744| -0.21369332|  -0.3334781|  0.10270619|   0.3221156| -0.06074027| -0.27224487| -0.13522811|  0.48775336| -0.21114711|   -0.2616635|  0.06669942|  -0.07656788|-0.037350506|  0.27390605|  0.17160536|-0.043154813| -0.48563793| -0.20811345|  -0.20108284| -0.45866203|  -0.26184937| 0.068339065|  0.21635117| -0.09352244|  0.30234253|  0.23905444|  -0.10239316| -0.35370344|  0.18931276| -0.27933913|  0.14028859|  0.13846894| 0.116374746|  -0.3125972| -0.18572073| -0.32021478| 0.060076304| -0.31702942| -0.40708238| -0.47000754| -0.29118624|  0.20486781|  -0.0848149|\n",
      "| 20| 0.025458345| 0.49619803| -0.024665408| 0.032119703|  -0.3500015| -0.05631321|  0.09297433| 0.14512299| -0.29880106|   0.21707739|  0.08563359| 0.011022376|  -0.11673065|  -0.09985731| 0.083615676| -0.25114086| -0.17630318|    -0.09848|  0.21319637| -0.33915013|  0.36895192|-0.012297847|-0.021322194| -0.13166265| 0.024255183|  0.36088413|  0.24567139| -0.19593017|  0.09080013|0.0084153265|   0.20653334|-0.019614212| -0.06859563| 0.018368712| -0.59284824|  0.22734007| -0.20451537| -0.12029619| -0.49763647| -0.36448124|  0.23146479| 0.003774944| -0.25385183| 0.046248708|   0.1308504| -0.28434217|  -0.20380029|-0.019868989| -0.022166925|  0.20136943|  0.10692804|  0.21785507| -0.13783295| -0.20892574|  0.15667489|  -0.06366856| -0.27171695| -0.114432454|  0.19635984|    -0.18642|  -0.1715261|  0.33744264|  0.13631272|   0.13807368| -0.20215714| 0.070714675| -0.33433765| 0.025432473|  0.05628589| 0.070331074| -0.17274584| -0.30918497|  -0.1382022|  0.03100718| -0.14032252|  -0.3135407| -0.42468348| -0.38405776| -0.18760198|  0.12023936|\n",
      "| 30|  0.16602552| 0.25617388|  0.044732474| -0.21514556| -0.42346725| 0.015230173| 0.119537435|0.004475307|  -0.0829902|   0.20346382|  0.14509404|  0.02443175| -0.093831085|     0.227511| -0.05533399| -0.18905598| 0.078580566|-0.053096894|  0.18295796|-0.060764473|   0.4381359|-0.045340523|  0.27213252| -0.10675683|  0.16768907| 0.090004474|  0.14461172|  0.13384135| -0.17911147| -0.11218469|   0.25702244|  -0.1453042|  0.15402082| 0.034402512|  -0.3002973|  0.27666855|-0.060806833| -0.07189131| -0.37352338|-0.053143602|  0.27751872| -0.16695142|   -0.149735| -0.45396915|  0.06705594| -0.39270034|  0.002837976|-0.024671871|   -0.3476787|  0.10507301|  0.10591252| 0.121415175| -0.21152838| -0.21038556| -0.21706097|  -0.19792105| -0.45724615|  -0.22784717| 0.021859687|-0.022560617| -0.39170223|  0.15009652|  -0.0372745|  0.075851865|   -0.252397|  0.13633625| -0.27841622| -0.06581393|   0.3507369|   0.3202421| -0.17698656| -0.49573326|  -0.3736679| -0.12606335|  0.24729651|   -0.253282| -0.36997652| -0.14025146|   0.1914238| 0.011481389|\n",
      "| 40|  -0.2425208| 0.22389896|  -0.01980042| 0.059753332| -0.21952656|  0.10241079| -0.02340745| 0.22988476|   -0.268691| -0.109410085|  0.22715124| -0.18153284|-0.0073340796| -0.004015852|  0.28079155| 0.008087529| -0.14423096| 0.034038436|  0.31236854| -0.04790437|   0.5328221|  -0.1339547|  0.51731455|  -0.0822172|  0.30727288|-0.099242255|   0.3262592| 0.027991416| -0.10213874|   0.0922602|   0.35066146| -0.11821164|  -0.3951991| -0.15672441| -0.39829853|-0.078902096| -0.20357466| -0.19025838|  -0.3843944|-0.011397735|  0.16473822|  -0.2786167| -0.22608405| -0.24559692|  0.07202627|  -0.1793639|  -0.10587008| 0.114552595|  -0.22622176| -0.31200102|   0.4645679|  0.21773404| -0.20879418| -0.43428984| -0.35840997|  0.017592449| -0.46536502|  -0.36337942| -0.19913931|  0.03532095| -0.23042226|  0.18067306|  0.16327591|    0.1732785| -0.19352701|  0.23405123| -0.28935096|  -0.2447689| 0.094996564|  0.15057164| -0.17838164| -0.35082576| -0.05893482|  0.14654523|  0.13528278| -0.40929177|  -0.4028525| -0.15185717|  -0.0874033|-0.018922044|\n",
      "| 50|  0.07817284| 0.38108113| -0.013093938|-0.114586346| -0.47573462|  0.18191186| 0.077418335| 0.02250937| -0.13629785|   0.30202916|  0.18519713| 0.031473435|   -0.0897506| -0.054312143|  0.15490323|  -0.3007451| -0.08968623| 0.019055655|  0.18083335| -0.07486699|  0.67724687| 0.009555429|  0.25504503| -0.14001147|  0.15570034| 0.029755838|   0.3997098|  0.34299234| 0.054664925| -0.14380495|  0.075769596| -0.13745487|  0.09666078| -0.13074374| -0.54515594|   0.3397761| -0.11288812| -0.11989848|  -0.5551496| -0.11094109|   0.3326843|  0.06655391| -0.36161467| -0.41248938|  0.30560848|  -0.4337617|   0.11633485|  0.02577078|   -0.1993993|-0.005353198|  0.31654105|  0.14603536| -0.17682262|  -0.5467132|-0.048988625|  -0.42183667| -0.37456924|  -0.32722187|-0.054657552| 0.048686076| -0.17935553|  0.57383066|  0.09763598|   0.15100041|  -0.3947314|   0.3751909| -0.38978755|  0.05436215|  0.13134035|  0.11033716|  -0.4330915|  -0.4575057| -0.45370477|-0.029091656|  0.23629022| -0.17948487|  -0.6167449|-0.029514637|  0.14656517|  0.29488173|\n",
      "| 60|-0.036099862| 0.27245584|  0.043321904| -0.36910018|  -0.3951545|  0.12567784|0.0030867043| 0.18936309|-0.020535268|   0.11187843|  0.06026249|  0.01717633| -0.053090196| -0.066412896|  -0.3311432| -0.26183382|-0.084877655|  0.17098936| 0.017537652| -0.21820529|   0.2279034| 0.059585646|   0.2867807| -0.22587158|   0.3198825|  0.13832103|  0.74223816|-0.020523231|  0.08126254| -0.11785718|   0.19458026|0.0037789475| -0.15023765|-0.044645254| -0.44572288|  0.22573616| -0.25233063|  0.16883488| -0.26075158|-0.007629744|  0.10672792|  -0.1480149| -0.27316067| -0.39220056|   0.1225868|-0.068958335|   0.06390978|  0.23860037| 0.0138727985|  -0.3100918|  0.19076636| -0.07206105| -0.13303372| -0.24973413|  -0.3612481|  -0.17928295|  -0.2360031|  -0.37545535|  0.15337789|   0.2636169| -0.23964275|  0.07501738| -0.07222887| -0.054388855| -0.26731616|  0.32628876| -0.25689217|  0.07442623|   0.2241511| 0.015825737| -0.29663402| -0.44008183| -0.06354632|-0.049005453| -0.19413297| -0.34996268| -0.27248728| -0.27171275| -0.02094963|  0.19815612|\n",
      "| 70| 0.056229886|  0.4919378|   0.08893019| -0.17437194| -0.10860696|  0.31130257|-0.036370035|  0.4587153| 7.810945E-4|   0.26373717|   0.1770333|-0.011540862|  -0.16082606|-0.0021744026|  0.14918447| -0.19486699|  0.36185223|  0.22517069|   0.2508286| -0.11185558|   0.5630176| -0.18573722|  0.42260394|  -0.1550378|  0.25219485|   0.2100003|  0.13070503|  0.14466226| -0.19338003| -0.27505746|   0.31838867| -0.40273982| 0.002207001|  -0.2675009| -0.43191335|  0.50502205| -0.21063429|-0.026968813| -0.41306713|  -0.2129409|   0.2365308| -0.16469981|  -0.3119183| -0.22917584| 0.094933644| -0.18788204|  -0.13349038|  0.07314707| -0.024153808|  -0.2202041|  0.37827346|   0.2267185| -0.19368252|  -0.5512483| -0.24873489|  -0.15940666|  -0.4251526|   -0.2757665|  -0.1727978| -0.15671341| -0.22275928|   0.1666887| 0.022788268|    0.2344858|-0.037866153|  0.19294557| -0.14244132|  0.17888086|  0.31284255|-0.046040695| -0.31736484|  -0.1064035| -0.60155267| -0.08266671|-0.100867696| -0.21133126|  -0.4439189| -0.18272638|  0.29815936|  0.22402854|\n",
      "|100|  0.03611168|0.108554065|-0.0010622537|-0.073779754|  -0.2568918|  0.08026135| -0.18734418| 0.22011751|  0.09034922|    0.2018176|  0.21456286| -0.09079066|  0.055074062|  -0.14659569| -0.16562597| -0.14577356| -0.22820504|  0.13515885|  0.09872955|  0.03280248|  0.18581708|  0.03808036| 0.122828014| -0.24513288|  0.19707434| -0.04614193|  0.34524652|  0.09944068| -0.17605887|  -0.0948591|    0.1933651|0.0024283906|-0.028697444| -0.30610546| -0.07911958|  0.10790065|  -0.2974496|-0.004340472| -0.20655692| -0.04935267|  0.32457784|  0.01410668| -0.09514368| -0.31961507|-0.048006333|-0.009661215|   0.12916963|    0.279215|-0.0035775413| -0.07877776|  0.23067196|  0.09074581| -0.13064125|  -0.3943136| -0.20843169|  0.006845732| -0.42364758|  -0.45939514|-0.039647296|   0.2747262|  -0.2879493|  0.22986965| -0.06572342|   0.12693112|  -0.4147814|  0.14153033|-0.027407417| 0.112873524|  0.21628045| 0.094874285| -0.18455708|  -0.5046477| -0.18485625| -0.08553156| 0.008139215| -0.31557113| -0.21850038| -0.11784499|  0.16028869|  0.17270206|\n",
      "|110|    0.155237|  0.4786201|  -0.07040318| -0.15355505|  -0.3598347|-0.036676385|-0.023695251| 0.14586262|   0.1071878|  -0.08836756| 0.045874134| 0.047478367|  -0.26972672|  0.005766206| -0.08502011| -0.10066961| -0.43696657|  0.23439166|  0.14147274| -0.11928976|  0.50679684| -0.20145416|  0.28974757|-0.073698685|   0.3493633|  0.15274473|  0.43404868|  0.23468809|  0.13583694| 0.027679866|   0.20634498| -0.11124489|-0.076190256| -0.20263885| -0.67234504|  0.10249747| -0.25414807| -0.33673328| -0.23534507| -0.17909293|  0.18213232|  0.13760814| -0.36642683| -0.17113031|  0.28393355| -0.33878005|  0.014684723|  0.08575862| 4.4307488E-4| -0.03865855|   0.5645133|  0.13718335|-0.042194724| -0.45063344|  0.30198896| -0.040039886|  -0.6123075|   -0.5522123| 0.034970682|  0.18918876| -0.35549608|  0.43004793|  0.16421904|  0.019484743| -0.37178078|   0.4402956| -0.23261087| 0.018114947|  0.15514517|  0.06438479| -0.13221169|  -0.4858718| -0.19915442|  0.07140806|   0.1773967| -0.39139315| -0.52185136| -0.36435637|   0.0474365|   0.3650949|\n",
      "|140|  0.24726573|0.112797365|  0.010640513| -0.22198822|  -0.2834989|    0.227134|-0.031442173| 0.16109975|  0.04167402|  0.086714745| 0.124210946| 0.013693261|   -0.2617866|  -0.10847405| -0.30446902|  -0.1637881| -0.31689167| 0.096323736| 0.070092574|  -0.2810673|   0.3670577| -0.17115182|  0.49112764| -0.19693908|  0.20189656|  0.16647674|  0.19938564| 0.027777283|  -0.1145006|-0.108351626|-0.0037020152| -0.09165735|  0.05191547|  -0.1938729| -0.29470605|  0.32768682|  -0.3228842| -0.08048188| -0.20506363|  -0.1804867|  0.11655765| 0.045128055| -0.36280864| -0.26958108|  0.22117177| -0.20044163|   0.12747627|  0.35043406|  -0.15198287|-0.030815268|  0.20579395| 0.051815238| -0.15394352| -0.38610703| 0.033825163|  -0.09031422| -0.15543576|  -0.52788955|-0.013752936|  0.11789601| -0.20453824|  0.21281971|  0.14914922|  -0.15189426| -0.45992023|  0.27986166| -0.17439012|  0.10822728|  0.07743125|   0.1558423| -0.22644182|  -0.4059831| -0.02910551| -0.18518221| 0.067361146| -0.20501256|  -0.3606943|-0.014340363| 0.105176054|  0.17472838|\n",
      "|150|  0.09190368|  0.2089206| -0.013425194|-0.108678386|  -0.3101901|   0.0936603|  0.06284714|  0.1854063| -0.05771963| -0.111170106| 0.102603495|   0.0673371|  -0.33408132|  -0.03786906|-0.118405476|   -0.164673|  -0.2856189| 0.008938217|  0.15281798| -0.42610332|  0.10226905|  -0.0876351|  0.43235016| -0.17613465|   0.3275822|  0.06894203|  0.29675075|  0.10074915| 0.045850813|-0.036749106|   0.11751733|-0.024757158| 0.059931964| -0.17177929|  -0.6976912|  0.16245206|  -0.4644917|  -0.2870469|  -0.3305833| -0.17389011|  0.29588774| 0.049983125| -0.18197474| -0.20555508| 0.062167548| -0.31220374|   0.14913054|  0.17778198|   -0.2737023|-0.061569974|  0.37173912|-0.094299726|-0.019233081| -0.25001383|  -0.2819499|   0.06339945| -0.31643707|  -0.40153918|  0.09075594|  0.35754442| -0.37459117|  0.18400785|  0.09396318|-0.0031938758|  -0.3809717|  0.23260665| -0.32848084|  0.07262507|   0.2190453|  0.18039079| -0.08445932| -0.49287066| -0.21328843| -0.19917856| -0.21584903|  -0.6825357|  -0.6234939| -0.28891256|  0.16843998| 0.040775854|\n",
      "|160| -0.08672462| 0.10531688|   0.15761004| -0.27752963| -0.10989317|  0.43557146| 0.094898574| 0.30313173|  0.20451708|-0.0051352833|-0.026615797| 0.011180954| -0.014098052|  -0.20117566| -0.26678252|-0.030526832|-0.099919245|  0.23437446| -0.04307496| -0.14754756|  0.13384815| -0.03902306|  0.28302214| -0.05308456|  0.23484924|    0.285535|   0.5067686|  0.08757243| 0.034321476| 0.008647256|    0.2853039|   0.1931612| -0.16857174| -0.27001217| -0.17558067| 0.015763376|  -0.3219617| -0.14375888| -0.15718289| -0.16274822|  0.02454749|  0.17171817| -0.13531521|-0.100336574|  0.31916025|   0.1181464| -0.009788051|  0.43573427|   0.26210743| -0.10298135|   0.3227111|  0.14103001| -0.08232024|  -0.5290156|-0.062837444| -0.044884034| -0.53277236|  -0.45097536|  0.08558923|  0.33388293| -0.14655899|   0.2304943| -0.09501482|   -0.2830553| -0.22086202|  0.08515632| -0.19564757|  0.20124574|  0.21318945| 0.050385937| -0.29697135|-0.015586505|  0.09295183|  -0.1576638| -0.21530287| -0.44087127| -0.22107817| -0.28720918|  -0.0798259|  0.44576848|\n",
      "|170| -0.16926345| 0.16223308|  -0.09225523|  0.20353131| -0.14904836|  0.17745459|  0.12184136|0.048120413| 0.035712738|    0.1872451|  0.21658324| 0.009012802|   -0.1811051|  -0.06796825|  -0.1414309|-0.079305425|  -0.1751207| 0.105781116| -0.05428974| -0.21412559|  0.30634245| -0.08175939| 0.058105856| -0.10751303|  0.19467042|  0.10990368|   0.6207441|     0.21631| -0.07167043| -0.06313102|   0.14544821| -0.12813444| 0.035547018| -0.25660264| -0.28589123| -0.02062981| -0.17805187| -0.25701952|-0.101344004|-0.012282732|  0.17560689|-0.108111106| -0.12536363| -0.13789669|   0.5704952| -0.24273168|    0.0849632|  0.14359273| -0.091751635| -0.25084883|  0.18562737|  0.22229064|  -0.2983434| -0.58373463| -0.01095827|  -0.18358612| -0.61283296|   -0.5937564|  0.18207379| 0.107901596| -0.34652877|   0.3750484|  0.12517548|  -0.12092079| -0.31629163| 0.061304864| -0.25746408| 0.087067395|  0.11311946| 0.048792142|  -0.2898291| -0.76319325| -0.18589807| -0.05491242|  0.16560645|  -0.2735862|  -0.2444898| -0.23038907| -0.02477626|  0.28562602|\n",
      "|180|-0.050438497| 0.43624493|  0.003942938|  0.12667106|  -0.1001549|  0.06381446|  0.20119157| -0.0500753| 0.097151086| -0.015968865| 6.773413E-4| 0.097290196|  -0.18952496|   0.15238832|  0.19829349|-0.013156151| 0.032368742|  0.21901044| 0.040948827|   0.1523901|   0.8524048| -0.15581681|0.0021616549| -0.24060854|  0.27326447|   0.0689009|  0.22202808|  0.30879787| -0.03458089| -0.03654792|   0.15802555|  -0.3369955|  0.14911056|0.0033488595| -0.41413125|  0.14604522| -0.05547933| -0.17853767| -0.19302677|  0.09418612| 0.096513934|-0.051983517| -0.21839136| -0.26392823|   0.3360822|  -0.1795937|   0.15959096|-0.039884564| -0.103823334| -0.11504248|   0.2657002|  0.45508838| -0.17393933|   -0.575071| -0.10946767|  -0.16744307|  -0.4176424| -0.052784517|  -0.0885146|  0.23438935| -0.22983553|   0.5159162|   0.2174681|   0.09515987| -0.27786574|   0.2727319| -0.29256612| 0.023883862|  0.18526459|  0.19226208| -0.40599534| -0.56260306| -0.49200508|  0.06294266|  0.04718463| -0.23072575|  -0.5569776| -0.08476247|   0.1418955|  0.19161612|\n",
      "|190|  0.54750174| 0.33724996|   0.09799618|  -0.4009075| -0.21848212|-0.003047047|  0.39162436|-0.19510932| -0.07704391|   0.23708639|  0.09159748|  0.06961894|  0.058079604|   0.46233132| 0.025742086| 0.003896497|  0.21174453| -0.21876569|  0.29440525|  -0.2055047|   0.5426933|0.0010518659|   0.2655429|  -0.2791174|  0.04637464| -0.13157654| -0.14551339|-0.016610239|-0.076894246|-0.010118088|   0.29334345| -0.10975821|  0.17647782|  0.07749165|  -0.1641279|  0.26199248|    0.140201| -0.08965773|  -0.4433859| -0.05563635|  0.44073692| -0.35352722| 0.083949976| -0.50106406|  0.06380654| -0.16761838|  -0.10001443| -0.26344937|   -0.5025154|   0.3863278| 0.057714224| -0.15491351| -0.23307317| -0.13424392| -0.18438883|  -0.27751154| -0.49953687|-0.0044609867| -0.12932739|-0.062065665| -0.33765733|-0.014007067| -0.25269502| -0.095833965| 0.037340645|    0.247064| -0.32168695| -0.17314254|  0.20548993|  0.16556375| -0.27817288|  -0.6494856| -0.43421298| -0.12744322|   0.5894017|-0.052927773|  -0.1210785|  -0.3192579|  0.11465956|  0.11869681|\n",
      "|210| 0.022636851|  0.1321794|   0.04080628| -0.18980715|  -0.1982886|  0.16100748| 0.029684206| 0.17006508| 0.081059806|   0.13796584|  0.12599272|  0.03299111|    -0.046616|  -0.07876714| -0.19389014|-0.100316934| -0.14037445|  0.12037099|  0.11965811|  -0.2507604|  0.20151985| 0.059542272|  0.32945773|-0.019738724|  0.16288453|  0.13492471|  0.37728378|  0.06691833| -0.13442473|  0.14149149|   0.19979225| -0.02241051| -0.14774135| -0.08181257| -0.25569057| 0.016330382| -0.38080537| -0.15934396|  -0.1737227|-0.081874415| 0.050952055| 0.042684026| -0.19454327| -0.18548357|  0.23175298| -0.25491422|  0.010253834|  0.10719154|  0.010465624|-0.025698924|  0.34110326| -0.07193607| -0.18499656| -0.45742604| -0.16996868| -0.018106233| -0.28690863|    -0.373066|  0.08242342|   0.3124237| -0.21685402|  0.14199568| -0.14740404|   -0.1790035|-0.071698815| 0.045840397| -0.20411077|  0.15139966|  0.18402526|   0.1799122| -0.09647122| -0.42687494| -0.13404234| -0.04029837| 0.020476876|  -0.3767048|  -0.4281197| -0.32956487|-0.020022253|   0.2627948|\n",
      "|220| 0.014015287| 0.31581184| -0.027715445| -0.28579274| -0.21154709|  0.07361786| -0.07178051| 0.11205303|0.0057253554|   0.14678746| 0.070371434| 0.059389967|  0.037693616|  -0.06552027|   0.0181367| -0.02945598| 0.038534217|-0.024944808| -0.03492514| -0.23370083|  0.26410782| -0.05961207|  0.19274472|-0.020488959|  0.03443602|  0.04565435|   0.3307923| -0.06907347| -0.18024805|-0.040526416|    0.2062664| -0.08788319| -0.05037759|   -0.206524| -0.23811792|  0.14811975| -0.07935075| 0.024160022| -0.09965937|-0.030057875| 0.033089954|-0.013175825| -0.05313857| -0.29206228|-0.027301056|0.0061370987|   0.01591818|  0.18347633|    0.0650195|-0.009097974|   0.2955634| 0.049011093| -0.06308894| -0.26684037| -0.21489716|  0.031922787| -0.40788752|  -0.25406134|-0.057951488| 0.055953532|-0.108044244|  0.13311808| -0.05317502|   -0.1243754|  -0.1604733| 0.056405403|  -0.1959945|  0.10299405|   0.1031523|  0.12346736| -0.21489786|  -0.1868169|-0.019669691| 0.090353765|-0.011176325|  -0.2530165| -0.18951182| -0.18035476|  0.07472656|  0.20500517|\n",
      "|230| 0.040015858| 0.28700113|   0.12406122|  -0.2366084| -0.21199906|   0.3234206|  0.11289124|  0.2291102| 0.111087084|   0.35645163|   0.2574568|  0.06516681|  0.111743055| -0.060207866|-0.054231364|   -0.286032|  -0.1519848| 0.049848266|  0.25929236| -0.16756223|  0.35007203| 0.116706565|  0.25022265| -0.21248966|  0.30249748|  0.11352065|  0.40691692|  0.21256465| -0.35764477|   0.2093457|   0.27156007| -0.24883148|  -0.1194354| -0.12835611|  -0.2243606|  0.13338014| -0.19856957|-0.024559965| -0.31017834| -0.16857485|  0.05705155| -0.26655528|  -0.2649692|  -0.4274955|  0.24089262| -0.23061267|-0.0087171765|  0.10957286|  -0.14004478| 0.043445814|   0.4119514| -0.17085949| -0.20165963| -0.39821282| -0.15890768|  0.077659056| -0.45903215|   -0.2734531|   0.0395861|  0.20167254|  -0.3699064|  0.11258324|  -0.3482956|  -0.13154934|  -0.1252536|    0.121423| -0.17234775| -0.16633353|  0.36933643|  0.12845004| -0.41810203| -0.44228646|  -0.2230232| -0.16011216| 0.052672315| -0.45689946|  -0.3526137| -0.35635528|  0.03206711|  0.33972058|\n",
      "|240|-0.002247075| 0.06257652|  -0.06104128|-0.007991168|-0.073956154|  0.09685048|-0.053226244| 0.17727867|  0.12586232|   0.11579077|-0.014143477| 0.042538553|  -0.03727402|  -0.08396831| -0.08439987|  0.10662598| -0.10244451|  0.18677272|-0.040264737| -0.19641273|  0.15180416|   0.1225952|  0.18259884|-0.036488295|   0.0686196| 0.026188906|  0.41330644|  0.12581395|  -0.1131401|  0.06659832|   0.30210567|-0.056942377|-0.032480136| -0.06033584| -0.21866153| 0.057069935| -0.21359095|-0.010864123| -0.21341674|-0.051356237| -0.05324181| 0.043814845|-0.031219386|-0.015969828|  0.15803131| -0.04061702|   0.15940195|  0.22084329|   0.12803778|  0.14382708|  0.43911457|-0.042593937|-0.047352992| -0.29542923| -0.17082039|  0.028289964|  -0.2283884|   -0.2728328| 0.002511863|  0.29126903| -0.19772588|  0.17799698| -0.10184305|  -0.16180228|  -0.1421825| 0.015341483| -0.31559816|   0.1366222| 0.034632914|  0.22797154| -0.06888978| -0.37550953| -0.05057921| 0.038497265|-0.081010416| -0.27417308| -0.21321507| -0.19788931| 0.004399253|  0.18502083|\n",
      "|250| -0.14508617| 0.28838292|  0.046539713| -0.25815317| -0.23688072| 0.108879395| 0.033256624| 0.13152707| 7.056079E-4|   0.08128044| 0.004123893|-0.020618064| -0.043851547|  -0.15078625|  -0.3400649| 2.582166E-4| -0.08279321|  0.16695818|-0.063344374| -0.32675606|  0.09036643|  0.13410692|  0.28926185|  0.03269202|  0.11082469|  0.29744247|  0.45259959| -0.14146657| -0.16327295|  0.19361113|   0.38598922| -0.03882376|  -0.2767805| -0.14595278| -0.18906061| 0.018629862| -0.32774946|-0.021845534| -0.10410911| -0.19324921|  0.06701538| 0.058586955| -0.20916335| -0.10796929|  0.13009712| -0.03083466| -0.012117522|  0.30162555|   0.26376787| -0.02460698|  0.34286872|   0.0412109| -0.15824968| -0.36529642| -0.12862031|-0.0075762165| -0.25728297|   -0.3824627| 0.008013576|  0.28727883| -0.15930957|  0.05642049|  -0.2610607|  -0.28252006| -0.11830967| -0.05029279| -0.22073999|  0.17582403|   0.2247765|   0.1402312| -0.12653054| -0.31830752| 0.071096316| 0.054455776|-0.060796466| -0.32305592| -0.32545567| -0.38991696| -0.10910058|  0.34046888|\n",
      "+---+------------+-----------+-------------+------------+------------+------------+------------+-----------+------------+-------------+------------+------------+-------------+-------------+------------+------------+------------+------------+------------+------------+------------+------------+------------+------------+------------+------------+------------+------------+------------+------------+-------------+------------+------------+------------+------------+------------+------------+------------+------------+------------+------------+------------+------------+------------+------------+------------+-------------+------------+-------------+------------+------------+------------+------------+------------+------------+-------------+------------+-------------+------------+------------+------------+------------+------------+-------------+------------+------------+------------+------------+------------+------------+------------+------------+------------+------------+------------+------------+------------+------------+------------+------------+\n",
      "only showing top 20 rows\n",
      "\n"
     ]
    }
   ],
   "source": [
    "#generate the movie factor matrix\n",
    "movie_factors= bestModel.itemFactors\n",
    "#feature_len = len(movie_factors.collect()[0][1])\n",
    "movie_factors = movie_factors.select(['id'] + [movie_factors.features[i] for i in range(bestModel.rank)])\n",
    "movie_factors.show()"
   ]
  },
  {
   "cell_type": "code",
   "execution_count": 127,
   "metadata": {
    "colab": {
     "base_uri": "https://localhost:8080/",
     "height": 458
    },
    "id": "D9nP3nMjiu-G",
    "outputId": "dd223e60-8c3f-4c5a-c6ba-5e240a82d8f0"
   },
   "outputs": [
    {
     "name": "stderr",
     "output_type": "stream",
     "text": [
      "spark-3.2.1-bin-hadoop3.2/python/pyspark/sql/context.py:127: FutureWarning: Deprecated in 3.0.0. Use SparkSession.builder.getOrCreate() instead.\n",
      "  FutureWarning\n"
     ]
    },
    {
     "data": {
      "text/html": [
       "\n",
       "  <div id=\"df-bf471ee7-6f99-4491-bf70-6c45d0557741\">\n",
       "    <div class=\"colab-df-container\">\n",
       "      <div>\n",
       "<style scoped>\n",
       "    .dataframe tbody tr th:only-of-type {\n",
       "        vertical-align: middle;\n",
       "    }\n",
       "\n",
       "    .dataframe tbody tr th {\n",
       "        vertical-align: top;\n",
       "    }\n",
       "\n",
       "    .dataframe thead th {\n",
       "        text-align: right;\n",
       "    }\n",
       "</style>\n",
       "<table border=\"1\" class=\"dataframe\">\n",
       "  <thead>\n",
       "    <tr style=\"text-align: right;\">\n",
       "      <th></th>\n",
       "      <th>id</th>\n",
       "      <th>features</th>\n",
       "    </tr>\n",
       "  </thead>\n",
       "  <tbody>\n",
       "    <tr>\n",
       "      <th>0</th>\n",
       "      <td>10</td>\n",
       "      <td>[-0.02601017989218235, 0.18641135096549988, 0....</td>\n",
       "    </tr>\n",
       "    <tr>\n",
       "      <th>1</th>\n",
       "      <td>20</td>\n",
       "      <td>[0.02545834518969059, 0.49619802832603455, -0....</td>\n",
       "    </tr>\n",
       "    <tr>\n",
       "      <th>2</th>\n",
       "      <td>30</td>\n",
       "      <td>[0.16602551937103271, 0.25617387890815735, 0.0...</td>\n",
       "    </tr>\n",
       "    <tr>\n",
       "      <th>3</th>\n",
       "      <td>40</td>\n",
       "      <td>[-0.2425207942724228, 0.2238989621400833, -0.0...</td>\n",
       "    </tr>\n",
       "    <tr>\n",
       "      <th>4</th>\n",
       "      <td>50</td>\n",
       "      <td>[0.07817284017801285, 0.38108113408088684, -0....</td>\n",
       "    </tr>\n",
       "    <tr>\n",
       "      <th>...</th>\n",
       "      <td>...</td>\n",
       "      <td>...</td>\n",
       "    </tr>\n",
       "    <tr>\n",
       "      <th>8955</th>\n",
       "      <td>185029</td>\n",
       "      <td>[0.1228843405842781, 0.027487922459840775, 0.1...</td>\n",
       "    </tr>\n",
       "    <tr>\n",
       "      <th>8956</th>\n",
       "      <td>188189</td>\n",
       "      <td>[0.15198981761932373, 0.35885190963745117, -0....</td>\n",
       "    </tr>\n",
       "    <tr>\n",
       "      <th>8957</th>\n",
       "      <td>190209</td>\n",
       "      <td>[0.10802774876356125, 0.474465012550354, -0.07...</td>\n",
       "    </tr>\n",
       "    <tr>\n",
       "      <th>8958</th>\n",
       "      <td>190219</td>\n",
       "      <td>[0.027006937190890312, 0.1186162531375885, -0....</td>\n",
       "    </tr>\n",
       "    <tr>\n",
       "      <th>8959</th>\n",
       "      <td>193579</td>\n",
       "      <td>[0.05036695674061775, 0.4094966948032379, -0.0...</td>\n",
       "    </tr>\n",
       "  </tbody>\n",
       "</table>\n",
       "<p>8960 rows × 2 columns</p>\n",
       "</div>\n",
       "      <button class=\"colab-df-convert\" onclick=\"convertToInteractive('df-bf471ee7-6f99-4491-bf70-6c45d0557741')\"\n",
       "              title=\"Convert this dataframe to an interactive table.\"\n",
       "              style=\"display:none;\">\n",
       "        \n",
       "  <svg xmlns=\"http://www.w3.org/2000/svg\" height=\"24px\"viewBox=\"0 0 24 24\"\n",
       "       width=\"24px\">\n",
       "    <path d=\"M0 0h24v24H0V0z\" fill=\"none\"/>\n",
       "    <path d=\"M18.56 5.44l.94 2.06.94-2.06 2.06-.94-2.06-.94-.94-2.06-.94 2.06-2.06.94zm-11 1L8.5 8.5l.94-2.06 2.06-.94-2.06-.94L8.5 2.5l-.94 2.06-2.06.94zm10 10l.94 2.06.94-2.06 2.06-.94-2.06-.94-.94-2.06-.94 2.06-2.06.94z\"/><path d=\"M17.41 7.96l-1.37-1.37c-.4-.4-.92-.59-1.43-.59-.52 0-1.04.2-1.43.59L10.3 9.45l-7.72 7.72c-.78.78-.78 2.05 0 2.83L4 21.41c.39.39.9.59 1.41.59.51 0 1.02-.2 1.41-.59l7.78-7.78 2.81-2.81c.8-.78.8-2.07 0-2.86zM5.41 20L4 18.59l7.72-7.72 1.47 1.35L5.41 20z\"/>\n",
       "  </svg>\n",
       "      </button>\n",
       "      \n",
       "  <style>\n",
       "    .colab-df-container {\n",
       "      display:flex;\n",
       "      flex-wrap:wrap;\n",
       "      gap: 12px;\n",
       "    }\n",
       "\n",
       "    .colab-df-convert {\n",
       "      background-color: #E8F0FE;\n",
       "      border: none;\n",
       "      border-radius: 50%;\n",
       "      cursor: pointer;\n",
       "      display: none;\n",
       "      fill: #1967D2;\n",
       "      height: 32px;\n",
       "      padding: 0 0 0 0;\n",
       "      width: 32px;\n",
       "    }\n",
       "\n",
       "    .colab-df-convert:hover {\n",
       "      background-color: #E2EBFA;\n",
       "      box-shadow: 0px 1px 2px rgba(60, 64, 67, 0.3), 0px 1px 3px 1px rgba(60, 64, 67, 0.15);\n",
       "      fill: #174EA6;\n",
       "    }\n",
       "\n",
       "    [theme=dark] .colab-df-convert {\n",
       "      background-color: #3B4455;\n",
       "      fill: #D2E3FC;\n",
       "    }\n",
       "\n",
       "    [theme=dark] .colab-df-convert:hover {\n",
       "      background-color: #434B5C;\n",
       "      box-shadow: 0px 1px 3px 1px rgba(0, 0, 0, 0.15);\n",
       "      filter: drop-shadow(0px 1px 2px rgba(0, 0, 0, 0.3));\n",
       "      fill: #FFFFFF;\n",
       "    }\n",
       "  </style>\n",
       "\n",
       "      <script>\n",
       "        const buttonEl =\n",
       "          document.querySelector('#df-bf471ee7-6f99-4491-bf70-6c45d0557741 button.colab-df-convert');\n",
       "        buttonEl.style.display =\n",
       "          google.colab.kernel.accessAllowed ? 'block' : 'none';\n",
       "\n",
       "        async function convertToInteractive(key) {\n",
       "          const element = document.querySelector('#df-bf471ee7-6f99-4491-bf70-6c45d0557741');\n",
       "          const dataTable =\n",
       "            await google.colab.kernel.invokeFunction('convertToInteractive',\n",
       "                                                     [key], {});\n",
       "          if (!dataTable) return;\n",
       "\n",
       "          const docLinkHtml = 'Like what you see? Visit the ' +\n",
       "            '<a target=\"_blank\" href=https://colab.research.google.com/notebooks/data_table.ipynb>data table notebook</a>'\n",
       "            + ' to learn more about interactive tables.';\n",
       "          element.innerHTML = '';\n",
       "          dataTable['output_type'] = 'display_data';\n",
       "          await google.colab.output.renderOutput(dataTable, element);\n",
       "          const docLink = document.createElement('div');\n",
       "          docLink.innerHTML = docLinkHtml;\n",
       "          element.appendChild(docLink);\n",
       "        }\n",
       "      </script>\n",
       "    </div>\n",
       "  </div>\n",
       "  "
      ],
      "text/plain": [
       "          id                                           features\n",
       "0         10  [-0.02601017989218235, 0.18641135096549988, 0....\n",
       "1         20  [0.02545834518969059, 0.49619802832603455, -0....\n",
       "2         30  [0.16602551937103271, 0.25617387890815735, 0.0...\n",
       "3         40  [-0.2425207942724228, 0.2238989621400833, -0.0...\n",
       "4         50  [0.07817284017801285, 0.38108113408088684, -0....\n",
       "...      ...                                                ...\n",
       "8955  185029  [0.1228843405842781, 0.027487922459840775, 0.1...\n",
       "8956  188189  [0.15198981761932373, 0.35885190963745117, -0....\n",
       "8957  190209  [0.10802774876356125, 0.474465012550354, -0.07...\n",
       "8958  190219  [0.027006937190890312, 0.1186162531375885, -0....\n",
       "8959  193579  [0.05036695674061775, 0.4094966948032379, -0.0...\n",
       "\n",
       "[8960 rows x 2 columns]"
      ]
     },
     "execution_count": 127,
     "metadata": {},
     "output_type": "execute_result"
    }
   ],
   "source": [
    "#generate the movie factor matrix\n",
    "movieFactors= bestModel.itemFactors.toPandas()"
   ]
  },
  {
   "cell_type": "code",
   "execution_count": 185,
   "metadata": {
    "id": "6MeVSCAQysVN"
   },
   "outputs": [],
   "source": [
    "movies_df = movies_df.toPandas().astype({'movieId': int})"
   ]
  },
  {
   "cell_type": "code",
   "execution_count": 187,
   "metadata": {
    "id": "spBYjJqYhE3R"
   },
   "outputs": [],
   "source": [
    "# Use cosine similarity method to evaluate the similarity between movies\n",
    "\n",
    "def similarMovie(k, movieId):\n",
    "  '''\n",
    "  k: number of similar movies to find\n",
    "  movieId: id of the movie to find similarities\n",
    "  '''\n",
    "\n",
    "  try:\n",
    "    movieFeature = movieFactors.loc[movieFactors.id==movieId,'features'].to_numpy()[0]\n",
    "  except:\n",
    "    return 'There is no such movie with id ' + str(movieId)\n",
    "\n",
    "  similar = pd.DataFrame(columns=('movieId','cosine_simi'))\n",
    "  for id, featureList in movieFactors.to_numpy():\n",
    "    cosine = np.dot(movieFeature,featureList)/(np.linalg.norm(movieFeature)*np.linalg.norm(featureList))\n",
    "    similar = similar.append({'movieId': id, 'cosine_simi': cosine}, ignore_index=True)\n",
    "  similar = similar.sort_values(by=['cosine_simi'],ascending=False)[1:k+1]\n",
    "  similar = similar.astype({'movieId': int})\n",
    "  final = similar.merge(movies_df, left_on='movieId', right_on = 'movieId', how='left')\n",
    "  return final[['movieId','title','genres']]"
   ]
  },
  {
   "cell_type": "code",
   "execution_count": 188,
   "metadata": {
    "colab": {
     "base_uri": "https://localhost:8080/",
     "height": 35
    },
    "id": "tulqZrF8pvMH",
    "outputId": "bd331ff1-2a76-4ff4-b1cd-948a6421e525"
   },
   "outputs": [
    {
     "data": {
      "application/vnd.google.colaboratory.intrinsic+json": {
       "type": "string"
      },
      "text/plain": [
       "'There is no such movie with id 463'"
      ]
     },
     "execution_count": 188,
     "metadata": {},
     "output_type": "execute_result"
    }
   ],
   "source": [
    "similarMovie(10,463)"
   ]
  },
  {
   "cell_type": "code",
   "execution_count": 189,
   "metadata": {
    "colab": {
     "base_uri": "https://localhost:8080/",
     "height": 363
    },
    "id": "k87IYUKrqLuL",
    "outputId": "ada1ceda-9f1e-47ea-d27c-b7d8b341480f"
   },
   "outputs": [
    {
     "data": {
      "text/html": [
       "\n",
       "  <div id=\"df-e618c160-18c4-4500-8299-4b4952f222c0\">\n",
       "    <div class=\"colab-df-container\">\n",
       "      <div>\n",
       "<style scoped>\n",
       "    .dataframe tbody tr th:only-of-type {\n",
       "        vertical-align: middle;\n",
       "    }\n",
       "\n",
       "    .dataframe tbody tr th {\n",
       "        vertical-align: top;\n",
       "    }\n",
       "\n",
       "    .dataframe thead th {\n",
       "        text-align: right;\n",
       "    }\n",
       "</style>\n",
       "<table border=\"1\" class=\"dataframe\">\n",
       "  <thead>\n",
       "    <tr style=\"text-align: right;\">\n",
       "      <th></th>\n",
       "      <th>movieId</th>\n",
       "      <th>title</th>\n",
       "      <th>genres</th>\n",
       "    </tr>\n",
       "  </thead>\n",
       "  <tbody>\n",
       "    <tr>\n",
       "      <th>0</th>\n",
       "      <td>708</td>\n",
       "      <td>Truth About Cats &amp; Dogs, The (1996)</td>\n",
       "      <td>Comedy|Romance</td>\n",
       "    </tr>\n",
       "    <tr>\n",
       "      <th>1</th>\n",
       "      <td>6331</td>\n",
       "      <td>Spellbound (2002)</td>\n",
       "      <td>Documentary</td>\n",
       "    </tr>\n",
       "    <tr>\n",
       "      <th>2</th>\n",
       "      <td>532</td>\n",
       "      <td>Serial Mom (1994)</td>\n",
       "      <td>Comedy|Crime|Horror</td>\n",
       "    </tr>\n",
       "    <tr>\n",
       "      <th>3</th>\n",
       "      <td>745</td>\n",
       "      <td>Wallace &amp; Gromit: A Close Shave (1995)</td>\n",
       "      <td>Animation|Children|Comedy</td>\n",
       "    </tr>\n",
       "    <tr>\n",
       "      <th>4</th>\n",
       "      <td>2723</td>\n",
       "      <td>Mystery Men (1999)</td>\n",
       "      <td>Action|Comedy|Fantasy</td>\n",
       "    </tr>\n",
       "    <tr>\n",
       "      <th>5</th>\n",
       "      <td>144</td>\n",
       "      <td>Brothers McMullen, The (1995)</td>\n",
       "      <td>Comedy</td>\n",
       "    </tr>\n",
       "    <tr>\n",
       "      <th>6</th>\n",
       "      <td>7266</td>\n",
       "      <td>Lost Skeleton of Cadavra, The (2002)</td>\n",
       "      <td>Comedy|Horror|Sci-Fi</td>\n",
       "    </tr>\n",
       "    <tr>\n",
       "      <th>7</th>\n",
       "      <td>32469</td>\n",
       "      <td>We're No Angels (1955)</td>\n",
       "      <td>Comedy|Crime|Drama</td>\n",
       "    </tr>\n",
       "    <tr>\n",
       "      <th>8</th>\n",
       "      <td>6296</td>\n",
       "      <td>Mighty Wind, A (2003)</td>\n",
       "      <td>Comedy|Musical</td>\n",
       "    </tr>\n",
       "    <tr>\n",
       "      <th>9</th>\n",
       "      <td>26</td>\n",
       "      <td>Othello (1995)</td>\n",
       "      <td>Drama</td>\n",
       "    </tr>\n",
       "  </tbody>\n",
       "</table>\n",
       "</div>\n",
       "      <button class=\"colab-df-convert\" onclick=\"convertToInteractive('df-e618c160-18c4-4500-8299-4b4952f222c0')\"\n",
       "              title=\"Convert this dataframe to an interactive table.\"\n",
       "              style=\"display:none;\">\n",
       "        \n",
       "  <svg xmlns=\"http://www.w3.org/2000/svg\" height=\"24px\"viewBox=\"0 0 24 24\"\n",
       "       width=\"24px\">\n",
       "    <path d=\"M0 0h24v24H0V0z\" fill=\"none\"/>\n",
       "    <path d=\"M18.56 5.44l.94 2.06.94-2.06 2.06-.94-2.06-.94-.94-2.06-.94 2.06-2.06.94zm-11 1L8.5 8.5l.94-2.06 2.06-.94-2.06-.94L8.5 2.5l-.94 2.06-2.06.94zm10 10l.94 2.06.94-2.06 2.06-.94-2.06-.94-.94-2.06-.94 2.06-2.06.94z\"/><path d=\"M17.41 7.96l-1.37-1.37c-.4-.4-.92-.59-1.43-.59-.52 0-1.04.2-1.43.59L10.3 9.45l-7.72 7.72c-.78.78-.78 2.05 0 2.83L4 21.41c.39.39.9.59 1.41.59.51 0 1.02-.2 1.41-.59l7.78-7.78 2.81-2.81c.8-.78.8-2.07 0-2.86zM5.41 20L4 18.59l7.72-7.72 1.47 1.35L5.41 20z\"/>\n",
       "  </svg>\n",
       "      </button>\n",
       "      \n",
       "  <style>\n",
       "    .colab-df-container {\n",
       "      display:flex;\n",
       "      flex-wrap:wrap;\n",
       "      gap: 12px;\n",
       "    }\n",
       "\n",
       "    .colab-df-convert {\n",
       "      background-color: #E8F0FE;\n",
       "      border: none;\n",
       "      border-radius: 50%;\n",
       "      cursor: pointer;\n",
       "      display: none;\n",
       "      fill: #1967D2;\n",
       "      height: 32px;\n",
       "      padding: 0 0 0 0;\n",
       "      width: 32px;\n",
       "    }\n",
       "\n",
       "    .colab-df-convert:hover {\n",
       "      background-color: #E2EBFA;\n",
       "      box-shadow: 0px 1px 2px rgba(60, 64, 67, 0.3), 0px 1px 3px 1px rgba(60, 64, 67, 0.15);\n",
       "      fill: #174EA6;\n",
       "    }\n",
       "\n",
       "    [theme=dark] .colab-df-convert {\n",
       "      background-color: #3B4455;\n",
       "      fill: #D2E3FC;\n",
       "    }\n",
       "\n",
       "    [theme=dark] .colab-df-convert:hover {\n",
       "      background-color: #434B5C;\n",
       "      box-shadow: 0px 1px 3px 1px rgba(0, 0, 0, 0.15);\n",
       "      filter: drop-shadow(0px 1px 2px rgba(0, 0, 0, 0.3));\n",
       "      fill: #FFFFFF;\n",
       "    }\n",
       "  </style>\n",
       "\n",
       "      <script>\n",
       "        const buttonEl =\n",
       "          document.querySelector('#df-e618c160-18c4-4500-8299-4b4952f222c0 button.colab-df-convert');\n",
       "        buttonEl.style.display =\n",
       "          google.colab.kernel.accessAllowed ? 'block' : 'none';\n",
       "\n",
       "        async function convertToInteractive(key) {\n",
       "          const element = document.querySelector('#df-e618c160-18c4-4500-8299-4b4952f222c0');\n",
       "          const dataTable =\n",
       "            await google.colab.kernel.invokeFunction('convertToInteractive',\n",
       "                                                     [key], {});\n",
       "          if (!dataTable) return;\n",
       "\n",
       "          const docLinkHtml = 'Like what you see? Visit the ' +\n",
       "            '<a target=\"_blank\" href=https://colab.research.google.com/notebooks/data_table.ipynb>data table notebook</a>'\n",
       "            + ' to learn more about interactive tables.';\n",
       "          element.innerHTML = '';\n",
       "          dataTable['output_type'] = 'display_data';\n",
       "          await google.colab.output.renderOutput(dataTable, element);\n",
       "          const docLink = document.createElement('div');\n",
       "          docLink.innerHTML = docLinkHtml;\n",
       "          element.appendChild(docLink);\n",
       "        }\n",
       "      </script>\n",
       "    </div>\n",
       "  </div>\n",
       "  "
      ],
      "text/plain": [
       "   movieId                                   title                     genres\n",
       "0      708     Truth About Cats & Dogs, The (1996)             Comedy|Romance\n",
       "1     6331                       Spellbound (2002)                Documentary\n",
       "2      532                       Serial Mom (1994)        Comedy|Crime|Horror\n",
       "3      745  Wallace & Gromit: A Close Shave (1995)  Animation|Children|Comedy\n",
       "4     2723                      Mystery Men (1999)      Action|Comedy|Fantasy\n",
       "5      144           Brothers McMullen, The (1995)                     Comedy\n",
       "6     7266    Lost Skeleton of Cadavra, The (2002)       Comedy|Horror|Sci-Fi\n",
       "7    32469                  We're No Angels (1955)         Comedy|Crime|Drama\n",
       "8     6296                   Mighty Wind, A (2003)             Comedy|Musical\n",
       "9       26                          Othello (1995)                      Drama"
      ]
     },
     "execution_count": 189,
     "metadata": {},
     "output_type": "execute_result"
    }
   ],
   "source": [
    "similarMovie(10,471)"
   ]
  },
  {
   "cell_type": "markdown",
   "metadata": {
    "id": "iBO5kxXr_NjT"
   },
   "source": [
    "# REPORT Section"
   ]
  },
  {
   "cell_type": "markdown",
   "metadata": {
    "id": "VMr09_LjzS9x"
   },
   "source": []
  }
 ],
 "metadata": {
  "colab": {
   "name": "HW2 Recommendation System_Xinyu.ipynb",
   "provenance": []
  },
  "kernelspec": {
   "display_name": "Python 3",
   "language": "python",
   "name": "python3"
  },
  "language_info": {
   "codemirror_mode": {
    "name": "ipython",
    "version": 3
   },
   "file_extension": ".py",
   "mimetype": "text/x-python",
   "name": "python",
   "nbconvert_exporter": "python",
   "pygments_lexer": "ipython3",
   "version": "3.8.5"
  }
 },
 "nbformat": 4,
 "nbformat_minor": 1
}
